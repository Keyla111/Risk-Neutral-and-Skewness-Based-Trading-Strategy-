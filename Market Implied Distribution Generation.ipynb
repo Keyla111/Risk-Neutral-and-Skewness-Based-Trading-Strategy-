{
 "cells": [
  {
   "cell_type": "code",
   "execution_count": 1,
   "id": "1ca71d08",
   "metadata": {},
   "outputs": [],
   "source": [
    "import numpy as np\n",
    "import pandas as pd\n",
    "import yfinance as yf\n",
    "from scipy.stats import norm\n",
    "import matplotlib.pyplot as plt\n",
    "from scipy import stats\n",
    "from scipy.integrate import simps\n",
    "import os\n",
    "import glob\n",
    "from scipy.optimize import minimize  "
   ]
  },
  {
   "cell_type": "code",
   "execution_count": 2,
   "id": "ae601cdf",
   "metadata": {},
   "outputs": [],
   "source": [
    "def load_csv(name):\n",
    "    '''\n",
    "    parameter:\n",
    "    name --> csv file name\n",
    "    \n",
    "    output:\n",
    "    test --> original csv file, with date and expiration column convert to pd datetime format\n",
    "    df --> dataframe with dates as index and [rf, spx and all the possible strike prices] as column\n",
    "    '''\n",
    "    test = pd.read_csv(name)\n",
    "    test['Date'] = pd.to_datetime(test['Date'])\n",
    "    test['Expiration'] = pd.to_datetime(test['Expiration'])\n",
    "    \n",
    "    df = yf.download(['^SPX', '^IRX'],start = test.iloc[0, 0],end = test.iloc[-1, 0] + pd.Timedelta(days=1))['Adj Close']\n",
    "    for i in range(1500):\n",
    "        df = df.copy()\n",
    "        df.loc[:,f'{i*5+100}'] = 0\n",
    "    df = df.rename(columns={'^IRX': 'rf', '^SPX': 'Close'})\n",
    "    if pd.to_datetime('2016-10-10') in df.index:\n",
    "        df.loc[pd.to_datetime('2016-10-10'), 'rf'] = 0.32\n",
    "    elif pd.to_datetime('2016-11-11') in df.index:\n",
    "        df.loc[pd.to_datetime('2016-11-11'), 'rf'] = 0.46\n",
    "    return test, df\n"
   ]
  },
  {
   "cell_type": "code",
   "execution_count": 3,
   "id": "589b74f5",
   "metadata": {},
   "outputs": [],
   "source": [
    "def date_strike(test, df):\n",
    "    '''\n",
    "    parameters:\n",
    "    test --> original csv file\n",
    "    df --> dataframe with datetime as index and strike as columns (all zeros entries)\n",
    "    \n",
    "    output:\n",
    "    df --> dataframe with datetime as index and strike as columns (mapping original csv data into this table, including put-call concerns)\n",
    "    '''\n",
    "    \n",
    "    for i in range(len(test)):\n",
    "        if test['Date'][i] in df.index:\n",
    "            if test['Volume'][i] == 0:\n",
    "                continue\n",
    "            else:\n",
    "                if df.loc[f\"{test['Date'][i]}\", f\"{test['Strike'][i]}\"] != 0:\n",
    "                    if df.loc[f\"{test['Date'][i]}\", f\"{test['Strike'][i]}\"] <= df.loc[f\"{test['Date'][i]}\", 'Close'] and test['CallPut'][i] == 'P':\n",
    "\n",
    "                        price = test['Bestoffer'][i] + df.loc[f\"{test['Date'][i]}\", \"Close\"] - test['Strike'][i] * np.exp(-df.loc[f\"{test['Date'][i]}\", 'rf']/100 * (test['Expiration'][i] - test['Date'][i]).days/365)\n",
    "                        price = round(price, 1)\n",
    "                        if price < 0:\n",
    "                            continue\n",
    "                        else:\n",
    "                            df.loc[f\"{test['Date'][i]}\", f\"{test['Strike'][i]}\"] = price\n",
    "                    elif df.loc[f\"{test['Date'][i]}\", f\"{test['Strike'][i]}\"] >= df.loc[f\"{test['Date'][i]}\", 'Close'] and test['CallPut'][i] == 'C':\n",
    "                        price = test['Bestoffer'][i]\n",
    "                        df.loc[f\"{test['Date'][i]}\", f\"{test['Strike'][i]}\"] = price\n",
    "                    else:\n",
    "                        continue\n",
    "\n",
    "                else:\n",
    "                    if test['CallPut'][i] == 'P':\n",
    "                        price = test['Bestoffer'][i] + df.loc[f\"{test['Date'][i]}\", \"Close\"] - test['Strike'][i] * np.exp(-df.loc[f\"{test['Date'][i]}\", 'rf']/100 * (test['Expiration'][i] - test['Date'][i]).days/365)\n",
    "                        price = round(price, 1)\n",
    "                        if price < 0:\n",
    "                            continue\n",
    "                        else:\n",
    "                            df.loc[f\"{test['Date'][i]}\", f\"{test['Strike'][i]}\"] = price\n",
    "                    else:\n",
    "                        price = test['Bestoffer'][i]\n",
    "                        df.loc[f\"{test['Date'][i]}\", f\"{test['Strike'][i]}\"] = price\n",
    "    \n",
    "    zero_cols = [col for col in df.columns if df[col].sum() == 0]\n",
    "    df.drop(columns=zero_cols, inplace=True)\n",
    "\n",
    "    return df\n",
    "                    \n",
    "            \n",
    "            \n",
    "            "
   ]
  },
  {
   "cell_type": "code",
   "execution_count": 4,
   "id": "35d06a56",
   "metadata": {},
   "outputs": [],
   "source": [
    "def get_nwindow(df, n):\n",
    "    '''\n",
    "    parameters:\n",
    "    df --> dataframe with datetime as index and strike as columns (with option price data)\n",
    "    n --> number of window, paper used 5, adjustable, notice if use five-day window, n should be 4\n",
    "    \n",
    "    output:\n",
    "    df_nday --> dataframe with datetime as index and strike as columns (with option price data adjusted for nday-window)\n",
    "    \n",
    "    '''\n",
    "    \n",
    "    df_nday = df.copy()\n",
    "    for i in range(len(df_nday)-n):\n",
    "        for j in range(df_nday.shape[1]-2):\n",
    "\n",
    "            if df_nday.iloc[i+n, j+2] == 0:  \n",
    "                for z in range(1,n):\n",
    "                    if df.iloc[i+n-z, j+2] != 0:\n",
    "                        df_nday.iloc[i+n, j+2] = df.iloc[i+n-z, j+2]\n",
    "                        break\n",
    "    return df_nday\n",
    "\n"
   ]
  },
  {
   "cell_type": "code",
   "execution_count": 5,
   "id": "bf99ce81",
   "metadata": {},
   "outputs": [],
   "source": [
    "def black_scholes(S, K, T, r, sigma):\n",
    "    # Black-Scholes formula \n",
    "    d1 = (np.log(S / K) + (r + sigma**2 / 2) * T) / (sigma * np.sqrt(T))\n",
    "    d2 = d1 - sigma * np.sqrt(T)\n",
    "    return S * norm.cdf(d1) - K * np.exp(-r * T) * norm.cdf(d2)\n",
    "\n",
    "def newton_implied_vol(S, K, T, r, C):\n",
    "    MAX_ITERATIONS = 100\n",
    "    PRECISION = 0.0001\n",
    "    \n",
    "    sigma = 0.5 # Initial volatility guess\n",
    "    \n",
    "    for i in range(MAX_ITERATIONS):\n",
    "        price = black_scholes(S, K, T, r, sigma) \n",
    "        diff = price - C\n",
    "\n",
    "        # Newton update step\n",
    "        sigma -= diff / vega(S, K, T, r, sigma)\n",
    "        \n",
    "        # Check for convergence\n",
    "        if abs(diff) < PRECISION:\n",
    "            return sigma\n",
    "        \n",
    "    return sigma\n",
    "\n",
    "def implied_vol(S, K, T, r, C):\n",
    "    MAX_ITERATIONS = 100\n",
    "    PRECISION = 0.0001\n",
    "    \n",
    "    sigma = 0.5 # Initial volatility guess\n",
    "    \n",
    "    for i in range(MAX_ITERATIONS):\n",
    "        price = black_scholes(S, K, T, r, sigma) \n",
    "        diff = price - C\n",
    "\n",
    "        # Newton update step\n",
    "        sigma -= diff / 100\n",
    "        \n",
    "        # Check for convergence\n",
    "        if abs(diff) < PRECISION:\n",
    "            return sigma\n",
    "        \n",
    "    return sigma\n",
    "    \n",
    "def vega(S, K, T, r, sigma):\n",
    "    # Vega formula\n",
    "    d1 = (np.log(S / K) + (r + sigma**2 / 2) * T) / (sigma * np.sqrt(T)) \n",
    "    return S * norm.pdf(d1) * np.sqrt(T)\n",
    "\n",
    "imp_vol = newton_implied_vol(100, 105, 1, 0.05, 5) "
   ]
  },
  {
   "cell_type": "code",
   "execution_count": 6,
   "id": "0057251a",
   "metadata": {},
   "outputs": [],
   "source": [
    "def get_iv(df_nday, test, n):\n",
    "    '''\n",
    "    parameters:\n",
    "    df_nday --> dataframe with datetime as index and strike as columns (with option price data adjusted for nday-window)\n",
    "    test --> original csv file\n",
    "    n --> number of window, paper used 5, adjustable\n",
    "    \n",
    "    output；\n",
    "    df_iv --> dataframe with datetime as index and strike as columns (entries are implied volatility based on option prices)\n",
    "    '''\n",
    "    df_iv = df_nday.copy()\n",
    "    for i in range(len(df_iv)-n):\n",
    "        for j in range(df_iv.shape[1]-2):\n",
    "            if df_iv.iloc[i+n, j+2] != 0:\n",
    "                iv = newton_implied_vol(df_nday.iloc[i+n, 1], int(df_iv.columns[j+2]), (test['Expiration'][i+n] - test['Date'][i+n]).days/365, df_nday.iloc[i+n, 0]/100, df_nday.iloc[i+n, j+2])\n",
    "                if np.isnan(iv):\n",
    "                    iv = implied_vol(df_nday.iloc[i+n, 1], int(df_iv.columns[j+2]), (test['Expiration'][i+n] - test['Date'][i+n]).days/365, df_nday.iloc[i+n, 0]/100, df_nday.iloc[i+n, j+2])\n",
    "                df_iv.iloc[i+n, j+2] = round(iv, 4)\n",
    "    return df_iv"
   ]
  },
  {
   "cell_type": "code",
   "execution_count": 7,
   "id": "0dac082a",
   "metadata": {},
   "outputs": [],
   "source": [
    "def obj_func(params, x, y):\n",
    "    pred_vols = params[0] * x + params[1] * np.sqrt(x) + params[2]\n",
    "    errors = abs(pred_vols - y)\n",
    "    return np.sum(errors)"
   ]
  },
  {
   "cell_type": "code",
   "execution_count": 8,
   "id": "e7903fd7",
   "metadata": {},
   "outputs": [],
   "source": [
    "def get_prob(df_iv, test, n, pct):\n",
    "    '''\n",
    "    parameters:\n",
    "    df_iv --> dataframe with datetime as index and strike as columns (entries are implied volatility based on option prices)\n",
    "    test --> original csv file\n",
    "    n --> number of window, paper used 5, adjustable\n",
    "    pct --> after 6M the up pct and down pct for sp500, paper used 20%, adjustable\n",
    "    \n",
    "    output:\n",
    "    result --> dataframe with datetime as index and [rf, sp500 closes, up_prob, down_prob, skewness and kurtosis] as columns\n",
    "    '''\n",
    "    #create a new dataframe to hold generated probs and characteristics\n",
    "    result = yf.download(['^SPX', '^IRX'],start = df_iv.iloc[n].name, end = df_iv.iloc[-1].name + pd.Timedelta(days=1))['Adj Close']\n",
    "    result.loc[:,['up_prob', 'down_prob', 'skewness', 'kurtosis', 'mean', 'variance', 'median', 'p10', 'p90']] = 0\n",
    "\n",
    "    for i in range(len(df_iv)-n):\n",
    "        if len(df_iv) - n != len(result):\n",
    "            print(\"size does not match\")\n",
    "            print(len(df_iv))\n",
    "            print(df_iv.iloc[n].name)\n",
    "            print(df_iv.iloc[-1].name)\n",
    "            print(len(result))\n",
    "            print(result.iloc[0].name)\n",
    "            print(result.iloc[-1].name)\n",
    "            break\n",
    "\n",
    "        # filter out abnormal ivs with iv<0 and >2\n",
    "        temp = df_iv.iloc[i + n, 2:]\n",
    "        temp = temp.drop(temp[(temp <= 0)| (temp >= 2)].index)\n",
    "\n",
    "        ''' can use IQR to filter out outlier or just simply filter out the first two and last two\n",
    "        q1 = temp.quantile(0.25)\n",
    "        q3 = temp.quantile(0.75) \n",
    "        iqr = q3 - q1\n",
    "        upper = q3 + 3 * iqr\n",
    "        lower = q1 - 3 * iqr \n",
    "        temp = temp[(temp > lower) & (temp < upper)]\n",
    "\n",
    "        '''\n",
    "        #temp = temp[1:]\n",
    "\n",
    "        # x will be strikes and y will be ivs\n",
    "        x = np.array([int(str) for str in temp.index])\n",
    "        y = np.array(temp)\n",
    "        \n",
    "        '''\n",
    "        spl = UnivariateSpline(x, y, k = 2)\n",
    "\n",
    "        # Predict smooth values\n",
    "        xs = np.arange(min(x)-min(x), max(x)+min(x), 1)\n",
    "        ys = np.maximum(spl(xs), 0)\n",
    "        '''\n",
    "        # optimizations with polinomial and constraints\n",
    "        beta0 = [0.00001, 0.001, 0.1] \n",
    "        cons = ({'type':'ineq', 'fun': lambda beta: beta[0]})\n",
    "        res = minimize(obj_func, beta0, args=(x, y), method='SLSQP', constraints = cons)\n",
    "        a_opt, b_opt, c_opt= res.x\n",
    "\n",
    "        # extend the up and down to +- 50% compared to current close\n",
    "        if int(df_iv.iloc[i+n, 1]*0.5) > min(x):\n",
    "            down_extend = 0\n",
    "        else:\n",
    "            down_extend = min(x) - int(df_iv.iloc[i+n, 1]*0.5)\n",
    "\n",
    "        if int(df_iv.iloc[i+n, 1]*1.5) > max(x):\n",
    "            up_extend = int(df_iv.iloc[i+n, 1]*1.5) - max(x)\n",
    "        else:\n",
    "            up_extend = 0\n",
    "            \n",
    "        xs = np.arange(min(x) - down_extend, max(x) + up_extend, 1)\n",
    "        ys = np.array([np.maximum(a_opt * strike + b_opt * np.sqrt(strike) + c_opt , 0) for strike in xs])\n",
    "\n",
    "        #generate callprice wrt strikes based on smoothed iv curve\n",
    "        callprice = []\n",
    "        for z in range(len(xs)):\n",
    "            callprice.append(black_scholes(df_iv.iloc[i+n, 1], xs[z], (csvfile['Expiration'][i+n] - csvfile['Date'][i+n]).days/365, df_iv.iloc[i+n, 0]/100, ys[z]))\n",
    "\n",
    "        # take second derivative\n",
    "        dy = np.gradient(callprice)\n",
    "        d2y = np.maximum(np.gradient(dy),0)\n",
    "        d2y = d2y * np.exp(-(csvfile['Expiration'][i+n] - csvfile['Date'][i+n]).days/365 * df_iv.iloc[i+n, 0]/100)\n",
    "        \n",
    "        # integration\n",
    "        downdiff = int(df_iv.iloc[i+n, 1] * (1-pct)) - (min(x)-down_extend) + 1\n",
    "        xaxis = np.arange(min(x)-down_extend, int(df_iv.iloc[i+n, 1] * (1-pct))+1)\n",
    "        yaxis = d2y[0: downdiff]\n",
    "        if np.any(np.isnan(yaxis)):\n",
    "            x_mask = ~np.isnan(yaxis)\n",
    "            y_mask = ~np.isnan(yaxis)  \n",
    "            x_filtered = xaxis[x_mask]\n",
    "            y_filtered = yaxis[y_mask]\n",
    "            print(temp.name)\n",
    "            down_prob = simps(y_filtered, x_filtered)\n",
    "        else:\n",
    "            down_prob = simps(yaxis, xaxis)\n",
    "\n",
    "        \n",
    "        updiff = (max(x)+up_extend) - int(df_iv.iloc[i+n, 1] * (1+pct)) + 1\n",
    "        xaxis = np.arange(int(df_iv.iloc[i+n, 1] * (1+pct)), max(x)+up_extend+1, 1)\n",
    "        yaxis = d2y[-updiff:]\n",
    "        if np.any(np.isnan(yaxis)):\n",
    "            x_mask = ~np.isnan(yaxis)\n",
    "            y_mask = ~np.isnan(yaxis)  \n",
    "            x_filtered = xaxis[x_mask]\n",
    "            y_filtered = yaxis[y_mask]     \n",
    "            up_prob = simps(y_filtered, x_filtered)\n",
    "        else:\n",
    "            up_prob = simps(yaxis, xaxis)\n",
    "        \n",
    "        '''print(down_prob)\n",
    "        print(up_prob)'''\n",
    "\n",
    "        ## calculate the skewness and kurtosis\n",
    "        yaxis = d2y\n",
    "        if (np.any(np.isnan(yaxis))):\n",
    "            y_mask = ~np.isnan(yaxis)\n",
    "            y_filtered = yaxis[y_mask]\n",
    "            skew = stats.skew(y_filtered)\n",
    "            kurt = stats.kurtosis(y_filtered)\n",
    "        else:\n",
    "            skew = stats.skew(yaxis)\n",
    "            kurt = stats.kurtosis(yaxis)\n",
    "            \n",
    "       \n",
    "    \n",
    "        # Calculate the mean and variance\n",
    "        mean = np.sum(xs * d2y)\n",
    "        variance = np.sum(d2y * (xs - mean)**2)\n",
    "\n",
    "        # Calculate the median\n",
    "        cumulative = np.cumsum(d2y) \n",
    "        median = xs[np.argmin(np.abs(cumulative - 0.5))]\n",
    "\n",
    "        # Calculate the 10th and 90th percentiles\n",
    "        p10 = xs[np.argmin(np.abs(cumulative - 0.1))] \n",
    "        p90 = xs[np.argmin(np.abs(cumulative - 0.9))]\n",
    "\n",
    "        result.iloc[i, 2] = round(up_prob, 4)\n",
    "        result.iloc[i, 3] = round(down_prob, 4)\n",
    "        result.iloc[i, 4] = round(skew, 4)\n",
    "        result.iloc[i, 5] = round(kurt, 4)\n",
    "        result.iloc[i, 6] = round(mean, 4)\n",
    "        result.iloc[i, 7] = round(variance, 4)\n",
    "        result.iloc[i, 8] = round(median, 4)\n",
    "        result.iloc[i, 9] = round(p10, 4)\n",
    "        result.iloc[i, 10] = round(p90, 4)\n",
    "        \n",
    "    return result\n"
   ]
  },
  {
   "cell_type": "code",
   "execution_count": 9,
   "id": "cfcd8962",
   "metadata": {
    "scrolled": true
   },
   "outputs": [
    {
     "name": "stdout",
     "output_type": "stream",
     "text": [
      "[*********************100%%**********************]  2 of 2 completed\n"
     ]
    },
    {
     "name": "stderr",
     "output_type": "stream",
     "text": [
      "C:\\Users\\84903\\AppData\\Local\\Temp\\ipykernel_16252\\4009778277.py:18: RuntimeWarning: divide by zero encountered in double_scalars\n",
      "  sigma -= diff / vega(S, K, T, r, sigma)\n",
      "C:\\Users\\84903\\AppData\\Local\\Temp\\ipykernel_16252\\4009778277.py:3: RuntimeWarning: invalid value encountered in double_scalars\n",
      "  d1 = (np.log(S / K) + (r + sigma**2 / 2) * T) / (sigma * np.sqrt(T))\n",
      "C:\\Users\\84903\\AppData\\Local\\Temp\\ipykernel_16252\\4009778277.py:47: RuntimeWarning: invalid value encountered in double_scalars\n",
      "  d1 = (np.log(S / K) + (r + sigma**2 / 2) * T) / (sigma * np.sqrt(T))\n",
      "C:\\Users\\84903\\AppData\\Local\\Temp\\ipykernel_16252\\4009778277.py:3: RuntimeWarning: overflow encountered in double_scalars\n",
      "  d1 = (np.log(S / K) + (r + sigma**2 / 2) * T) / (sigma * np.sqrt(T))\n",
      "C:\\Users\\84903\\AppData\\Local\\Temp\\ipykernel_16252\\4009778277.py:47: RuntimeWarning: overflow encountered in double_scalars\n",
      "  d1 = (np.log(S / K) + (r + sigma**2 / 2) * T) / (sigma * np.sqrt(T))\n",
      "C:\\Users\\84903\\AppData\\Local\\Temp\\ipykernel_16252\\4009778277.py:18: RuntimeWarning: overflow encountered in double_scalars\n",
      "  sigma -= diff / vega(S, K, T, r, sigma)\n"
     ]
    },
    {
     "name": "stdout",
     "output_type": "stream",
     "text": [
      "[*********************100%%**********************]  2 of 2 completed\n"
     ]
    },
    {
     "name": "stderr",
     "output_type": "stream",
     "text": [
      "C:\\Users\\84903\\AppData\\Local\\Temp\\ipykernel_16252\\4009778277.py:3: RuntimeWarning: divide by zero encountered in double_scalars\n",
      "  d1 = (np.log(S / K) + (r + sigma**2 / 2) * T) / (sigma * np.sqrt(T))\n"
     ]
    }
   ],
   "source": [
    "n = 4\n",
    "path = 'Orgnized Data/'\n",
    "csv_files = glob.glob(os.path.join(path, '*.csv'))\n",
    "\n",
    "csvfile, df = load_csv(\"Orgnized Data/101.csv\")\n",
    "df = date_strike(csvfile, df)\n",
    "df_window = get_nwindow(df, n)\n",
    "df_iv = get_iv(df_window, csvfile, n)\n",
    "results = get_prob(df_iv, csvfile, n, 0.1)\n",
    "\n"
   ]
  },
  {
   "cell_type": "code",
   "execution_count": 10,
   "id": "f7baab7e",
   "metadata": {},
   "outputs": [
    {
     "data": {
      "image/png": "[encoded data removed]",
      "text/plain": [
       "<Figure size 640x480 with 1 Axes>"
      ]
     },
     "metadata": {},
     "output_type": "display_data"
    }
   ],
   "source": [
    "plt.plot(results['up_prob'], label = 'up_prob')\n",
    "plt.plot(results['down_prob'], label = 'down_prob')\n",
    "plt.legend()\n",
    "plt.show()"
   ]
  },
  {
   "cell_type": "code",
   "execution_count": 11,
   "id": "59565b5e",
   "metadata": {},
   "outputs": [
    {
     "data": {
      "text/html": [
       "<div>\n",
       "<style scoped>\n",
       "    .dataframe tbody tr th:only-of-type {\n",
       "        vertical-align: middle;\n",
       "    }\n",
       "\n",
       "    .dataframe tbody tr th {\n",
       "        vertical-align: top;\n",
       "    }\n",
       "\n",
       "    .dataframe thead th {\n",
       "        text-align: right;\n",
       "    }\n",
       "</style>\n",
       "<table border=\"1\" class=\"dataframe\">\n",
       "  <thead>\n",
       "    <tr style=\"text-align: right;\">\n",
       "      <th></th>\n",
       "      <th>^IRX</th>\n",
       "      <th>^SPX</th>\n",
       "      <th>up_prob</th>\n",
       "      <th>down_prob</th>\n",
       "      <th>skewness</th>\n",
       "      <th>kurtosis</th>\n",
       "      <th>mean</th>\n",
       "      <th>variance</th>\n",
       "      <th>median</th>\n",
       "      <th>p10</th>\n",
       "      <th>p90</th>\n",
       "    </tr>\n",
       "    <tr>\n",
       "      <th>Date</th>\n",
       "      <th></th>\n",
       "      <th></th>\n",
       "      <th></th>\n",
       "      <th></th>\n",
       "      <th></th>\n",
       "      <th></th>\n",
       "      <th></th>\n",
       "      <th></th>\n",
       "      <th></th>\n",
       "      <th></th>\n",
       "      <th></th>\n",
       "    </tr>\n",
       "  </thead>\n",
       "  <tbody>\n",
       "    <tr>\n",
       "      <th>2011-01-07</th>\n",
       "      <td>0.135</td>\n",
       "      <td>1271.500000</td>\n",
       "      <td>0.3169</td>\n",
       "      <td>0.2072</td>\n",
       "      <td>1.0858</td>\n",
       "      <td>-0.3065</td>\n",
       "      <td>1270.7929</td>\n",
       "      <td>41522.7438</td>\n",
       "      <td>1318</td>\n",
       "      <td>1018</td>\n",
       "      <td>1529</td>\n",
       "    </tr>\n",
       "    <tr>\n",
       "      <th>2011-01-10</th>\n",
       "      <td>0.135</td>\n",
       "      <td>1269.750000</td>\n",
       "      <td>0.3346</td>\n",
       "      <td>0.2386</td>\n",
       "      <td>1.6923</td>\n",
       "      <td>1.4680</td>\n",
       "      <td>1374.2099</td>\n",
       "      <td>122425.1209</td>\n",
       "      <td>1292</td>\n",
       "      <td>999</td>\n",
       "      <td>1550</td>\n",
       "    </tr>\n",
       "    <tr>\n",
       "      <th>2011-01-11</th>\n",
       "      <td>0.145</td>\n",
       "      <td>1274.479980</td>\n",
       "      <td>0.3283</td>\n",
       "      <td>0.2448</td>\n",
       "      <td>1.6224</td>\n",
       "      <td>1.2034</td>\n",
       "      <td>1273.0806</td>\n",
       "      <td>53592.7590</td>\n",
       "      <td>1312</td>\n",
       "      <td>969</td>\n",
       "      <td>1539</td>\n",
       "    </tr>\n",
       "    <tr>\n",
       "      <th>2011-01-12</th>\n",
       "      <td>0.145</td>\n",
       "      <td>1285.959961</td>\n",
       "      <td>0.2935</td>\n",
       "      <td>0.2107</td>\n",
       "      <td>1.7602</td>\n",
       "      <td>1.7079</td>\n",
       "      <td>1409.5604</td>\n",
       "      <td>123446.8960</td>\n",
       "      <td>1301</td>\n",
       "      <td>1054</td>\n",
       "      <td>1515</td>\n",
       "    </tr>\n",
       "    <tr>\n",
       "      <th>2011-01-13</th>\n",
       "      <td>0.140</td>\n",
       "      <td>1283.760010</td>\n",
       "      <td>0.3139</td>\n",
       "      <td>0.2282</td>\n",
       "      <td>1.6123</td>\n",
       "      <td>1.1800</td>\n",
       "      <td>1402.6875</td>\n",
       "      <td>126110.2812</td>\n",
       "      <td>1300</td>\n",
       "      <td>1032</td>\n",
       "      <td>1541</td>\n",
       "    </tr>\n",
       "    <tr>\n",
       "      <th>...</th>\n",
       "      <td>...</td>\n",
       "      <td>...</td>\n",
       "      <td>...</td>\n",
       "      <td>...</td>\n",
       "      <td>...</td>\n",
       "      <td>...</td>\n",
       "      <td>...</td>\n",
       "      <td>...</td>\n",
       "      <td>...</td>\n",
       "      <td>...</td>\n",
       "      <td>...</td>\n",
       "    </tr>\n",
       "    <tr>\n",
       "      <th>2011-04-25</th>\n",
       "      <td>0.045</td>\n",
       "      <td>1335.250000</td>\n",
       "      <td>0.2058</td>\n",
       "      <td>0.1780</td>\n",
       "      <td>1.9584</td>\n",
       "      <td>2.4759</td>\n",
       "      <td>1338.7664</td>\n",
       "      <td>29235.0753</td>\n",
       "      <td>1350</td>\n",
       "      <td>1132</td>\n",
       "      <td>1530</td>\n",
       "    </tr>\n",
       "    <tr>\n",
       "      <th>2011-04-26</th>\n",
       "      <td>0.055</td>\n",
       "      <td>1347.239990</td>\n",
       "      <td>0.1986</td>\n",
       "      <td>0.1763</td>\n",
       "      <td>1.8947</td>\n",
       "      <td>2.2116</td>\n",
       "      <td>1349.6964</td>\n",
       "      <td>27971.9558</td>\n",
       "      <td>1359</td>\n",
       "      <td>1147</td>\n",
       "      <td>1542</td>\n",
       "    </tr>\n",
       "    <tr>\n",
       "      <th>2011-04-27</th>\n",
       "      <td>0.050</td>\n",
       "      <td>1355.660034</td>\n",
       "      <td>0.1877</td>\n",
       "      <td>0.1716</td>\n",
       "      <td>1.9299</td>\n",
       "      <td>2.3522</td>\n",
       "      <td>1358.1052</td>\n",
       "      <td>26639.6868</td>\n",
       "      <td>1366</td>\n",
       "      <td>1160</td>\n",
       "      <td>1545</td>\n",
       "    </tr>\n",
       "    <tr>\n",
       "      <th>2011-04-28</th>\n",
       "      <td>0.035</td>\n",
       "      <td>1360.479980</td>\n",
       "      <td>0.1793</td>\n",
       "      <td>0.1660</td>\n",
       "      <td>2.0354</td>\n",
       "      <td>2.7936</td>\n",
       "      <td>1363.2178</td>\n",
       "      <td>25492.0809</td>\n",
       "      <td>1369</td>\n",
       "      <td>1170</td>\n",
       "      <td>1544</td>\n",
       "    </tr>\n",
       "    <tr>\n",
       "      <th>2011-04-29</th>\n",
       "      <td>0.040</td>\n",
       "      <td>1363.609985</td>\n",
       "      <td>0.1847</td>\n",
       "      <td>0.1658</td>\n",
       "      <td>2.0336</td>\n",
       "      <td>2.7897</td>\n",
       "      <td>1364.8220</td>\n",
       "      <td>24972.5504</td>\n",
       "      <td>1377</td>\n",
       "      <td>1170</td>\n",
       "      <td>1548</td>\n",
       "    </tr>\n",
       "  </tbody>\n",
       "</table>\n",
       "<p>78 rows × 11 columns</p>\n",
       "</div>"
      ],
      "text/plain": [
       "             ^IRX         ^SPX  up_prob  down_prob  skewness  kurtosis   \n",
       "Date                                                                     \n",
       "2011-01-07  0.135  1271.500000   0.3169     0.2072    1.0858   -0.3065  \\\n",
       "2011-01-10  0.135  1269.750000   0.3346     0.2386    1.6923    1.4680   \n",
       "2011-01-11  0.145  1274.479980   0.3283     0.2448    1.6224    1.2034   \n",
       "2011-01-12  0.145  1285.959961   0.2935     0.2107    1.7602    1.7079   \n",
       "2011-01-13  0.140  1283.760010   0.3139     0.2282    1.6123    1.1800   \n",
       "...           ...          ...      ...        ...       ...       ...   \n",
       "2011-04-25  0.045  1335.250000   0.2058     0.1780    1.9584    2.4759   \n",
       "2011-04-26  0.055  1347.239990   0.1986     0.1763    1.8947    2.2116   \n",
       "2011-04-27  0.050  1355.660034   0.1877     0.1716    1.9299    2.3522   \n",
       "2011-04-28  0.035  1360.479980   0.1793     0.1660    2.0354    2.7936   \n",
       "2011-04-29  0.040  1363.609985   0.1847     0.1658    2.0336    2.7897   \n",
       "\n",
       "                 mean     variance  median   p10   p90  \n",
       "Date                                                    \n",
       "2011-01-07  1270.7929   41522.7438    1318  1018  1529  \n",
       "2011-01-10  1374.2099  122425.1209    1292   999  1550  \n",
       "2011-01-11  1273.0806   53592.7590    1312   969  1539  \n",
       "2011-01-12  1409.5604  123446.8960    1301  1054  1515  \n",
       "2011-01-13  1402.6875  126110.2812    1300  1032  1541  \n",
       "...               ...          ...     ...   ...   ...  \n",
       "2011-04-25  1338.7664   29235.0753    1350  1132  1530  \n",
       "2011-04-26  1349.6964   27971.9558    1359  1147  1542  \n",
       "2011-04-27  1358.1052   26639.6868    1366  1160  1545  \n",
       "2011-04-28  1363.2178   25492.0809    1369  1170  1544  \n",
       "2011-04-29  1364.8220   24972.5504    1377  1170  1548  \n",
       "\n",
       "[78 rows x 11 columns]"
      ]
     },
     "execution_count": 11,
     "metadata": {},
     "output_type": "execute_result"
    }
   ],
   "source": [
    "results"
   ]
  },
  {
   "cell_type": "code",
   "execution_count": 12,
   "id": "27658f01",
   "metadata": {
    "scrolled": true
   },
   "outputs": [
    {
     "name": "stdout",
     "output_type": "stream",
     "text": [
      "Orgnized Data\\101.csv\n",
      "[*********************100%%**********************]  2 of 2 completed\n",
      "Orgnized Data\\102.csv\n",
      "[*********************100%%**********************]  2 of 2 completed\n"
     ]
    },
    {
     "name": "stderr",
     "output_type": "stream",
     "text": [
      "C:\\Users\\84903\\AppData\\Local\\Temp\\ipykernel_16252\\4009778277.py:3: RuntimeWarning: overflow encountered in double_scalars\n",
      "  d1 = (np.log(S / K) + (r + sigma**2 / 2) * T) / (sigma * np.sqrt(T))\n",
      "C:\\Users\\84903\\AppData\\Local\\Temp\\ipykernel_16252\\4009778277.py:47: RuntimeWarning: overflow encountered in double_scalars\n",
      "  d1 = (np.log(S / K) + (r + sigma**2 / 2) * T) / (sigma * np.sqrt(T))\n",
      "C:\\Users\\84903\\AppData\\Local\\Temp\\ipykernel_16252\\4009778277.py:18: RuntimeWarning: divide by zero encountered in double_scalars\n",
      "  sigma -= diff / vega(S, K, T, r, sigma)\n",
      "C:\\Users\\84903\\AppData\\Local\\Temp\\ipykernel_16252\\4009778277.py:3: RuntimeWarning: invalid value encountered in double_scalars\n",
      "  d1 = (np.log(S / K) + (r + sigma**2 / 2) * T) / (sigma * np.sqrt(T))\n",
      "C:\\Users\\84903\\AppData\\Local\\Temp\\ipykernel_16252\\4009778277.py:47: RuntimeWarning: invalid value encountered in double_scalars\n",
      "  d1 = (np.log(S / K) + (r + sigma**2 / 2) * T) / (sigma * np.sqrt(T))\n"
     ]
    },
    {
     "name": "stdout",
     "output_type": "stream",
     "text": [
      "[*********************100%%**********************]  2 of 2 completed\n"
     ]
    },
    {
     "name": "stderr",
     "output_type": "stream",
     "text": [
      "C:\\Users\\84903\\AppData\\Local\\Temp\\ipykernel_16252\\4009778277.py:3: RuntimeWarning: divide by zero encountered in double_scalars\n",
      "  d1 = (np.log(S / K) + (r + sigma**2 / 2) * T) / (sigma * np.sqrt(T))\n"
     ]
    },
    {
     "name": "stdout",
     "output_type": "stream",
     "text": [
      "Orgnized Data\\103.csv\n",
      "[*********************100%%**********************]  2 of 2 completed\n"
     ]
    },
    {
     "name": "stderr",
     "output_type": "stream",
     "text": [
      "C:\\Users\\84903\\AppData\\Local\\Temp\\ipykernel_16252\\4009778277.py:18: RuntimeWarning: divide by zero encountered in double_scalars\n",
      "  sigma -= diff / vega(S, K, T, r, sigma)\n",
      "C:\\Users\\84903\\AppData\\Local\\Temp\\ipykernel_16252\\4009778277.py:3: RuntimeWarning: invalid value encountered in double_scalars\n",
      "  d1 = (np.log(S / K) + (r + sigma**2 / 2) * T) / (sigma * np.sqrt(T))\n",
      "C:\\Users\\84903\\AppData\\Local\\Temp\\ipykernel_16252\\4009778277.py:47: RuntimeWarning: invalid value encountered in double_scalars\n",
      "  d1 = (np.log(S / K) + (r + sigma**2 / 2) * T) / (sigma * np.sqrt(T))\n",
      "C:\\Users\\84903\\AppData\\Local\\Temp\\ipykernel_16252\\4009778277.py:3: RuntimeWarning: overflow encountered in double_scalars\n",
      "  d1 = (np.log(S / K) + (r + sigma**2 / 2) * T) / (sigma * np.sqrt(T))\n",
      "C:\\Users\\84903\\AppData\\Local\\Temp\\ipykernel_16252\\4009778277.py:47: RuntimeWarning: overflow encountered in double_scalars\n",
      "  d1 = (np.log(S / K) + (r + sigma**2 / 2) * T) / (sigma * np.sqrt(T))\n"
     ]
    },
    {
     "name": "stdout",
     "output_type": "stream",
     "text": [
      "[*********************100%%**********************]  2 of 2 completed\n",
      "Orgnized Data\\104.csv\n",
      "[*********************100%%**********************]  2 of 2 completed\n"
     ]
    },
    {
     "name": "stderr",
     "output_type": "stream",
     "text": [
      "C:\\Users\\84903\\AppData\\Local\\Temp\\ipykernel_16252\\4009778277.py:18: RuntimeWarning: divide by zero encountered in double_scalars\n",
      "  sigma -= diff / vega(S, K, T, r, sigma)\n",
      "C:\\Users\\84903\\AppData\\Local\\Temp\\ipykernel_16252\\4009778277.py:3: RuntimeWarning: invalid value encountered in double_scalars\n",
      "  d1 = (np.log(S / K) + (r + sigma**2 / 2) * T) / (sigma * np.sqrt(T))\n",
      "C:\\Users\\84903\\AppData\\Local\\Temp\\ipykernel_16252\\4009778277.py:47: RuntimeWarning: invalid value encountered in double_scalars\n",
      "  d1 = (np.log(S / K) + (r + sigma**2 / 2) * T) / (sigma * np.sqrt(T))\n",
      "C:\\Users\\84903\\AppData\\Local\\Temp\\ipykernel_16252\\4009778277.py:3: RuntimeWarning: overflow encountered in double_scalars\n",
      "  d1 = (np.log(S / K) + (r + sigma**2 / 2) * T) / (sigma * np.sqrt(T))\n",
      "C:\\Users\\84903\\AppData\\Local\\Temp\\ipykernel_16252\\4009778277.py:47: RuntimeWarning: overflow encountered in double_scalars\n",
      "  d1 = (np.log(S / K) + (r + sigma**2 / 2) * T) / (sigma * np.sqrt(T))\n"
     ]
    },
    {
     "name": "stdout",
     "output_type": "stream",
     "text": [
      "[*********************100%%**********************]  2 of 2 completed\n"
     ]
    },
    {
     "name": "stderr",
     "output_type": "stream",
     "text": [
      "C:\\Users\\84903\\AppData\\Local\\Temp\\ipykernel_16252\\4009778277.py:3: RuntimeWarning: divide by zero encountered in double_scalars\n",
      "  d1 = (np.log(S / K) + (r + sigma**2 / 2) * T) / (sigma * np.sqrt(T))\n"
     ]
    },
    {
     "name": "stdout",
     "output_type": "stream",
     "text": [
      "Orgnized Data\\105.csv\n",
      "[*********************100%%**********************]  2 of 2 completed\n"
     ]
    },
    {
     "name": "stderr",
     "output_type": "stream",
     "text": [
      "C:\\Users\\84903\\AppData\\Local\\Temp\\ipykernel_16252\\4009778277.py:18: RuntimeWarning: divide by zero encountered in double_scalars\n",
      "  sigma -= diff / vega(S, K, T, r, sigma)\n",
      "C:\\Users\\84903\\AppData\\Local\\Temp\\ipykernel_16252\\4009778277.py:3: RuntimeWarning: invalid value encountered in double_scalars\n",
      "  d1 = (np.log(S / K) + (r + sigma**2 / 2) * T) / (sigma * np.sqrt(T))\n",
      "C:\\Users\\84903\\AppData\\Local\\Temp\\ipykernel_16252\\4009778277.py:47: RuntimeWarning: invalid value encountered in double_scalars\n",
      "  d1 = (np.log(S / K) + (r + sigma**2 / 2) * T) / (sigma * np.sqrt(T))\n",
      "C:\\Users\\84903\\AppData\\Local\\Temp\\ipykernel_16252\\4009778277.py:3: RuntimeWarning: overflow encountered in double_scalars\n",
      "  d1 = (np.log(S / K) + (r + sigma**2 / 2) * T) / (sigma * np.sqrt(T))\n",
      "C:\\Users\\84903\\AppData\\Local\\Temp\\ipykernel_16252\\4009778277.py:47: RuntimeWarning: overflow encountered in double_scalars\n",
      "  d1 = (np.log(S / K) + (r + sigma**2 / 2) * T) / (sigma * np.sqrt(T))\n",
      "C:\\Users\\84903\\AppData\\Local\\Temp\\ipykernel_16252\\4009778277.py:18: RuntimeWarning: overflow encountered in double_scalars\n",
      "  sigma -= diff / vega(S, K, T, r, sigma)\n"
     ]
    },
    {
     "name": "stdout",
     "output_type": "stream",
     "text": [
      "[*********************100%%**********************]  2 of 2 completed\n"
     ]
    },
    {
     "name": "stderr",
     "output_type": "stream",
     "text": [
      "C:\\Users\\84903\\AppData\\Local\\Temp\\ipykernel_16252\\4009778277.py:3: RuntimeWarning: divide by zero encountered in double_scalars\n",
      "  d1 = (np.log(S / K) + (r + sigma**2 / 2) * T) / (sigma * np.sqrt(T))\n"
     ]
    },
    {
     "name": "stdout",
     "output_type": "stream",
     "text": [
      "Orgnized Data\\106.csv\n",
      "[*********************100%%**********************]  2 of 2 completed\n"
     ]
    },
    {
     "name": "stderr",
     "output_type": "stream",
     "text": [
      "C:\\Users\\84903\\AppData\\Local\\Temp\\ipykernel_16252\\4009778277.py:18: RuntimeWarning: divide by zero encountered in double_scalars\n",
      "  sigma -= diff / vega(S, K, T, r, sigma)\n",
      "C:\\Users\\84903\\AppData\\Local\\Temp\\ipykernel_16252\\4009778277.py:3: RuntimeWarning: invalid value encountered in double_scalars\n",
      "  d1 = (np.log(S / K) + (r + sigma**2 / 2) * T) / (sigma * np.sqrt(T))\n",
      "C:\\Users\\84903\\AppData\\Local\\Temp\\ipykernel_16252\\4009778277.py:47: RuntimeWarning: invalid value encountered in double_scalars\n",
      "  d1 = (np.log(S / K) + (r + sigma**2 / 2) * T) / (sigma * np.sqrt(T))\n",
      "C:\\Users\\84903\\AppData\\Local\\Temp\\ipykernel_16252\\4009778277.py:3: RuntimeWarning: overflow encountered in double_scalars\n",
      "  d1 = (np.log(S / K) + (r + sigma**2 / 2) * T) / (sigma * np.sqrt(T))\n",
      "C:\\Users\\84903\\AppData\\Local\\Temp\\ipykernel_16252\\4009778277.py:47: RuntimeWarning: overflow encountered in double_scalars\n",
      "  d1 = (np.log(S / K) + (r + sigma**2 / 2) * T) / (sigma * np.sqrt(T))\n"
     ]
    },
    {
     "name": "stdout",
     "output_type": "stream",
     "text": [
      "[*********************100%%**********************]  2 of 2 completed\n"
     ]
    },
    {
     "name": "stderr",
     "output_type": "stream",
     "text": [
      "C:\\Users\\84903\\AppData\\Local\\Temp\\ipykernel_16252\\4009778277.py:3: RuntimeWarning: divide by zero encountered in double_scalars\n",
      "  d1 = (np.log(S / K) + (r + sigma**2 / 2) * T) / (sigma * np.sqrt(T))\n"
     ]
    },
    {
     "name": "stdout",
     "output_type": "stream",
     "text": [
      "Orgnized Data\\107.csv\n",
      "[*********************100%%**********************]  2 of 2 completed\n"
     ]
    },
    {
     "name": "stderr",
     "output_type": "stream",
     "text": [
      "C:\\Users\\84903\\AppData\\Local\\Temp\\ipykernel_16252\\4009778277.py:3: RuntimeWarning: overflow encountered in double_scalars\n",
      "  d1 = (np.log(S / K) + (r + sigma**2 / 2) * T) / (sigma * np.sqrt(T))\n",
      "C:\\Users\\84903\\AppData\\Local\\Temp\\ipykernel_16252\\4009778277.py:47: RuntimeWarning: overflow encountered in double_scalars\n",
      "  d1 = (np.log(S / K) + (r + sigma**2 / 2) * T) / (sigma * np.sqrt(T))\n",
      "C:\\Users\\84903\\AppData\\Local\\Temp\\ipykernel_16252\\4009778277.py:18: RuntimeWarning: divide by zero encountered in double_scalars\n",
      "  sigma -= diff / vega(S, K, T, r, sigma)\n",
      "C:\\Users\\84903\\AppData\\Local\\Temp\\ipykernel_16252\\4009778277.py:3: RuntimeWarning: invalid value encountered in double_scalars\n",
      "  d1 = (np.log(S / K) + (r + sigma**2 / 2) * T) / (sigma * np.sqrt(T))\n",
      "C:\\Users\\84903\\AppData\\Local\\Temp\\ipykernel_16252\\4009778277.py:47: RuntimeWarning: invalid value encountered in double_scalars\n",
      "  d1 = (np.log(S / K) + (r + sigma**2 / 2) * T) / (sigma * np.sqrt(T))\n",
      "C:\\Users\\84903\\AppData\\Local\\Temp\\ipykernel_16252\\4009778277.py:18: RuntimeWarning: overflow encountered in double_scalars\n",
      "  sigma -= diff / vega(S, K, T, r, sigma)\n"
     ]
    },
    {
     "name": "stdout",
     "output_type": "stream",
     "text": [
      "[*********************100%%**********************]  2 of 2 completed\n"
     ]
    },
    {
     "name": "stderr",
     "output_type": "stream",
     "text": [
      "C:\\Users\\84903\\AppData\\Local\\Temp\\ipykernel_16252\\4009778277.py:3: RuntimeWarning: divide by zero encountered in double_scalars\n",
      "  d1 = (np.log(S / K) + (r + sigma**2 / 2) * T) / (sigma * np.sqrt(T))\n"
     ]
    },
    {
     "name": "stdout",
     "output_type": "stream",
     "text": [
      "Orgnized Data\\108.csv\n",
      "[*********************100%%**********************]  2 of 2 completed\n"
     ]
    },
    {
     "name": "stderr",
     "output_type": "stream",
     "text": [
      "C:\\Users\\84903\\AppData\\Local\\Temp\\ipykernel_16252\\4009778277.py:18: RuntimeWarning: divide by zero encountered in double_scalars\n",
      "  sigma -= diff / vega(S, K, T, r, sigma)\n",
      "C:\\Users\\84903\\AppData\\Local\\Temp\\ipykernel_16252\\4009778277.py:3: RuntimeWarning: invalid value encountered in double_scalars\n",
      "  d1 = (np.log(S / K) + (r + sigma**2 / 2) * T) / (sigma * np.sqrt(T))\n",
      "C:\\Users\\84903\\AppData\\Local\\Temp\\ipykernel_16252\\4009778277.py:47: RuntimeWarning: invalid value encountered in double_scalars\n",
      "  d1 = (np.log(S / K) + (r + sigma**2 / 2) * T) / (sigma * np.sqrt(T))\n",
      "C:\\Users\\84903\\AppData\\Local\\Temp\\ipykernel_16252\\4009778277.py:3: RuntimeWarning: overflow encountered in double_scalars\n",
      "  d1 = (np.log(S / K) + (r + sigma**2 / 2) * T) / (sigma * np.sqrt(T))\n",
      "C:\\Users\\84903\\AppData\\Local\\Temp\\ipykernel_16252\\4009778277.py:47: RuntimeWarning: overflow encountered in double_scalars\n",
      "  d1 = (np.log(S / K) + (r + sigma**2 / 2) * T) / (sigma * np.sqrt(T))\n",
      "C:\\Users\\84903\\AppData\\Local\\Temp\\ipykernel_16252\\4009778277.py:18: RuntimeWarning: overflow encountered in double_scalars\n",
      "  sigma -= diff / vega(S, K, T, r, sigma)\n"
     ]
    },
    {
     "name": "stdout",
     "output_type": "stream",
     "text": [
      "[*********************100%%**********************]  2 of 2 completed\n"
     ]
    },
    {
     "name": "stderr",
     "output_type": "stream",
     "text": [
      "C:\\Users\\84903\\AppData\\Local\\Temp\\ipykernel_16252\\4009778277.py:3: RuntimeWarning: divide by zero encountered in double_scalars\n",
      "  d1 = (np.log(S / K) + (r + sigma**2 / 2) * T) / (sigma * np.sqrt(T))\n"
     ]
    },
    {
     "name": "stdout",
     "output_type": "stream",
     "text": [
      "Orgnized Data\\109.csv\n",
      "[*********************100%%**********************]  2 of 2 completed\n"
     ]
    },
    {
     "name": "stderr",
     "output_type": "stream",
     "text": [
      "C:\\Users\\84903\\AppData\\Local\\Temp\\ipykernel_16252\\4009778277.py:18: RuntimeWarning: divide by zero encountered in double_scalars\n",
      "  sigma -= diff / vega(S, K, T, r, sigma)\n",
      "C:\\Users\\84903\\AppData\\Local\\Temp\\ipykernel_16252\\4009778277.py:3: RuntimeWarning: invalid value encountered in double_scalars\n",
      "  d1 = (np.log(S / K) + (r + sigma**2 / 2) * T) / (sigma * np.sqrt(T))\n",
      "C:\\Users\\84903\\AppData\\Local\\Temp\\ipykernel_16252\\4009778277.py:47: RuntimeWarning: invalid value encountered in double_scalars\n",
      "  d1 = (np.log(S / K) + (r + sigma**2 / 2) * T) / (sigma * np.sqrt(T))\n",
      "C:\\Users\\84903\\AppData\\Local\\Temp\\ipykernel_16252\\4009778277.py:3: RuntimeWarning: overflow encountered in double_scalars\n",
      "  d1 = (np.log(S / K) + (r + sigma**2 / 2) * T) / (sigma * np.sqrt(T))\n",
      "C:\\Users\\84903\\AppData\\Local\\Temp\\ipykernel_16252\\4009778277.py:47: RuntimeWarning: overflow encountered in double_scalars\n",
      "  d1 = (np.log(S / K) + (r + sigma**2 / 2) * T) / (sigma * np.sqrt(T))\n",
      "C:\\Users\\84903\\AppData\\Local\\Temp\\ipykernel_16252\\4009778277.py:18: RuntimeWarning: overflow encountered in double_scalars\n",
      "  sigma -= diff / vega(S, K, T, r, sigma)\n"
     ]
    },
    {
     "name": "stdout",
     "output_type": "stream",
     "text": [
      "[*********************100%%**********************]  2 of 2 completed\n"
     ]
    },
    {
     "name": "stderr",
     "output_type": "stream",
     "text": [
      "C:\\Users\\84903\\AppData\\Local\\Temp\\ipykernel_16252\\4009778277.py:3: RuntimeWarning: divide by zero encountered in double_scalars\n",
      "  d1 = (np.log(S / K) + (r + sigma**2 / 2) * T) / (sigma * np.sqrt(T))\n"
     ]
    },
    {
     "name": "stdout",
     "output_type": "stream",
     "text": [
      "Orgnized Data\\110.csv\n",
      "[*********************100%%**********************]  2 of 2 completed\n"
     ]
    },
    {
     "name": "stderr",
     "output_type": "stream",
     "text": [
      "C:\\Users\\84903\\AppData\\Local\\Temp\\ipykernel_16252\\4009778277.py:18: RuntimeWarning: divide by zero encountered in double_scalars\n",
      "  sigma -= diff / vega(S, K, T, r, sigma)\n",
      "C:\\Users\\84903\\AppData\\Local\\Temp\\ipykernel_16252\\4009778277.py:3: RuntimeWarning: invalid value encountered in double_scalars\n",
      "  d1 = (np.log(S / K) + (r + sigma**2 / 2) * T) / (sigma * np.sqrt(T))\n",
      "C:\\Users\\84903\\AppData\\Local\\Temp\\ipykernel_16252\\4009778277.py:47: RuntimeWarning: invalid value encountered in double_scalars\n",
      "  d1 = (np.log(S / K) + (r + sigma**2 / 2) * T) / (sigma * np.sqrt(T))\n",
      "C:\\Users\\84903\\AppData\\Local\\Temp\\ipykernel_16252\\4009778277.py:3: RuntimeWarning: overflow encountered in double_scalars\n",
      "  d1 = (np.log(S / K) + (r + sigma**2 / 2) * T) / (sigma * np.sqrt(T))\n",
      "C:\\Users\\84903\\AppData\\Local\\Temp\\ipykernel_16252\\4009778277.py:47: RuntimeWarning: overflow encountered in double_scalars\n",
      "  d1 = (np.log(S / K) + (r + sigma**2 / 2) * T) / (sigma * np.sqrt(T))\n"
     ]
    },
    {
     "name": "stdout",
     "output_type": "stream",
     "text": [
      "[*********************100%%**********************]  2 of 2 completed\n"
     ]
    },
    {
     "name": "stderr",
     "output_type": "stream",
     "text": [
      "C:\\Users\\84903\\AppData\\Local\\Temp\\ipykernel_16252\\4009778277.py:3: RuntimeWarning: divide by zero encountered in double_scalars\n",
      "  d1 = (np.log(S / K) + (r + sigma**2 / 2) * T) / (sigma * np.sqrt(T))\n"
     ]
    },
    {
     "name": "stdout",
     "output_type": "stream",
     "text": [
      "Orgnized Data\\111.csv\n",
      "[*********************100%%**********************]  2 of 2 completed\n"
     ]
    },
    {
     "name": "stderr",
     "output_type": "stream",
     "text": [
      "C:\\Users\\84903\\AppData\\Local\\Temp\\ipykernel_16252\\4009778277.py:18: RuntimeWarning: divide by zero encountered in double_scalars\n",
      "  sigma -= diff / vega(S, K, T, r, sigma)\n",
      "C:\\Users\\84903\\AppData\\Local\\Temp\\ipykernel_16252\\4009778277.py:3: RuntimeWarning: invalid value encountered in double_scalars\n",
      "  d1 = (np.log(S / K) + (r + sigma**2 / 2) * T) / (sigma * np.sqrt(T))\n",
      "C:\\Users\\84903\\AppData\\Local\\Temp\\ipykernel_16252\\4009778277.py:47: RuntimeWarning: invalid value encountered in double_scalars\n",
      "  d1 = (np.log(S / K) + (r + sigma**2 / 2) * T) / (sigma * np.sqrt(T))\n",
      "C:\\Users\\84903\\AppData\\Local\\Temp\\ipykernel_16252\\4009778277.py:3: RuntimeWarning: overflow encountered in double_scalars\n",
      "  d1 = (np.log(S / K) + (r + sigma**2 / 2) * T) / (sigma * np.sqrt(T))\n",
      "C:\\Users\\84903\\AppData\\Local\\Temp\\ipykernel_16252\\4009778277.py:47: RuntimeWarning: overflow encountered in double_scalars\n",
      "  d1 = (np.log(S / K) + (r + sigma**2 / 2) * T) / (sigma * np.sqrt(T))\n",
      "C:\\Users\\84903\\AppData\\Local\\Temp\\ipykernel_16252\\4009778277.py:18: RuntimeWarning: overflow encountered in double_scalars\n",
      "  sigma -= diff / vega(S, K, T, r, sigma)\n"
     ]
    },
    {
     "name": "stdout",
     "output_type": "stream",
     "text": [
      "[*********************100%%**********************]  2 of 2 completed\n"
     ]
    },
    {
     "name": "stderr",
     "output_type": "stream",
     "text": [
      "C:\\Users\\84903\\AppData\\Local\\Temp\\ipykernel_16252\\4009778277.py:3: RuntimeWarning: divide by zero encountered in double_scalars\n",
      "  d1 = (np.log(S / K) + (r + sigma**2 / 2) * T) / (sigma * np.sqrt(T))\n"
     ]
    },
    {
     "name": "stdout",
     "output_type": "stream",
     "text": [
      "Orgnized Data\\112.csv\n",
      "[*********************100%%**********************]  2 of 2 completed\n"
     ]
    },
    {
     "name": "stderr",
     "output_type": "stream",
     "text": [
      "C:\\Users\\84903\\AppData\\Local\\Temp\\ipykernel_16252\\4009778277.py:18: RuntimeWarning: divide by zero encountered in double_scalars\n",
      "  sigma -= diff / vega(S, K, T, r, sigma)\n",
      "C:\\Users\\84903\\AppData\\Local\\Temp\\ipykernel_16252\\4009778277.py:3: RuntimeWarning: invalid value encountered in double_scalars\n",
      "  d1 = (np.log(S / K) + (r + sigma**2 / 2) * T) / (sigma * np.sqrt(T))\n",
      "C:\\Users\\84903\\AppData\\Local\\Temp\\ipykernel_16252\\4009778277.py:47: RuntimeWarning: invalid value encountered in double_scalars\n",
      "  d1 = (np.log(S / K) + (r + sigma**2 / 2) * T) / (sigma * np.sqrt(T))\n",
      "C:\\Users\\84903\\AppData\\Local\\Temp\\ipykernel_16252\\4009778277.py:3: RuntimeWarning: overflow encountered in double_scalars\n",
      "  d1 = (np.log(S / K) + (r + sigma**2 / 2) * T) / (sigma * np.sqrt(T))\n",
      "C:\\Users\\84903\\AppData\\Local\\Temp\\ipykernel_16252\\4009778277.py:47: RuntimeWarning: overflow encountered in double_scalars\n",
      "  d1 = (np.log(S / K) + (r + sigma**2 / 2) * T) / (sigma * np.sqrt(T))\n"
     ]
    },
    {
     "name": "stdout",
     "output_type": "stream",
     "text": [
      "[*********************100%%**********************]  2 of 2 completed\n"
     ]
    },
    {
     "name": "stderr",
     "output_type": "stream",
     "text": [
      "C:\\Users\\84903\\AppData\\Local\\Temp\\ipykernel_16252\\4009778277.py:3: RuntimeWarning: divide by zero encountered in double_scalars\n",
      "  d1 = (np.log(S / K) + (r + sigma**2 / 2) * T) / (sigma * np.sqrt(T))\n"
     ]
    },
    {
     "name": "stdout",
     "output_type": "stream",
     "text": [
      "Orgnized Data\\113.csv\n",
      "[*********************100%%**********************]  2 of 2 completed\n"
     ]
    },
    {
     "name": "stderr",
     "output_type": "stream",
     "text": [
      "C:\\Users\\84903\\AppData\\Local\\Temp\\ipykernel_16252\\4009778277.py:18: RuntimeWarning: divide by zero encountered in double_scalars\n",
      "  sigma -= diff / vega(S, K, T, r, sigma)\n",
      "C:\\Users\\84903\\AppData\\Local\\Temp\\ipykernel_16252\\4009778277.py:3: RuntimeWarning: invalid value encountered in double_scalars\n",
      "  d1 = (np.log(S / K) + (r + sigma**2 / 2) * T) / (sigma * np.sqrt(T))\n",
      "C:\\Users\\84903\\AppData\\Local\\Temp\\ipykernel_16252\\4009778277.py:47: RuntimeWarning: invalid value encountered in double_scalars\n",
      "  d1 = (np.log(S / K) + (r + sigma**2 / 2) * T) / (sigma * np.sqrt(T))\n",
      "C:\\Users\\84903\\AppData\\Local\\Temp\\ipykernel_16252\\4009778277.py:3: RuntimeWarning: overflow encountered in double_scalars\n",
      "  d1 = (np.log(S / K) + (r + sigma**2 / 2) * T) / (sigma * np.sqrt(T))\n",
      "C:\\Users\\84903\\AppData\\Local\\Temp\\ipykernel_16252\\4009778277.py:47: RuntimeWarning: overflow encountered in double_scalars\n",
      "  d1 = (np.log(S / K) + (r + sigma**2 / 2) * T) / (sigma * np.sqrt(T))\n"
     ]
    },
    {
     "name": "stdout",
     "output_type": "stream",
     "text": [
      "[*********************100%%**********************]  2 of 2 completed\n"
     ]
    },
    {
     "name": "stderr",
     "output_type": "stream",
     "text": [
      "C:\\Users\\84903\\AppData\\Local\\Temp\\ipykernel_16252\\4009778277.py:3: RuntimeWarning: divide by zero encountered in double_scalars\n",
      "  d1 = (np.log(S / K) + (r + sigma**2 / 2) * T) / (sigma * np.sqrt(T))\n"
     ]
    },
    {
     "name": "stdout",
     "output_type": "stream",
     "text": [
      "Orgnized Data\\114.csv\n",
      "[*********************100%%**********************]  2 of 2 completed\n"
     ]
    },
    {
     "name": "stderr",
     "output_type": "stream",
     "text": [
      "C:\\Users\\84903\\AppData\\Local\\Temp\\ipykernel_16252\\4009778277.py:18: RuntimeWarning: divide by zero encountered in double_scalars\n",
      "  sigma -= diff / vega(S, K, T, r, sigma)\n",
      "C:\\Users\\84903\\AppData\\Local\\Temp\\ipykernel_16252\\4009778277.py:3: RuntimeWarning: invalid value encountered in double_scalars\n",
      "  d1 = (np.log(S / K) + (r + sigma**2 / 2) * T) / (sigma * np.sqrt(T))\n",
      "C:\\Users\\84903\\AppData\\Local\\Temp\\ipykernel_16252\\4009778277.py:47: RuntimeWarning: invalid value encountered in double_scalars\n",
      "  d1 = (np.log(S / K) + (r + sigma**2 / 2) * T) / (sigma * np.sqrt(T))\n",
      "C:\\Users\\84903\\AppData\\Local\\Temp\\ipykernel_16252\\4009778277.py:3: RuntimeWarning: overflow encountered in double_scalars\n",
      "  d1 = (np.log(S / K) + (r + sigma**2 / 2) * T) / (sigma * np.sqrt(T))\n",
      "C:\\Users\\84903\\AppData\\Local\\Temp\\ipykernel_16252\\4009778277.py:47: RuntimeWarning: overflow encountered in double_scalars\n",
      "  d1 = (np.log(S / K) + (r + sigma**2 / 2) * T) / (sigma * np.sqrt(T))\n",
      "C:\\Users\\84903\\AppData\\Local\\Temp\\ipykernel_16252\\4009778277.py:18: RuntimeWarning: overflow encountered in double_scalars\n",
      "  sigma -= diff / vega(S, K, T, r, sigma)\n"
     ]
    },
    {
     "name": "stdout",
     "output_type": "stream",
     "text": [
      "[*********************100%%**********************]  2 of 2 completed\n"
     ]
    },
    {
     "name": "stderr",
     "output_type": "stream",
     "text": [
      "C:\\Users\\84903\\AppData\\Local\\Temp\\ipykernel_16252\\4009778277.py:3: RuntimeWarning: divide by zero encountered in double_scalars\n",
      "  d1 = (np.log(S / K) + (r + sigma**2 / 2) * T) / (sigma * np.sqrt(T))\n"
     ]
    },
    {
     "name": "stdout",
     "output_type": "stream",
     "text": [
      "Orgnized Data\\115.csv\n",
      "[*********************100%%**********************]  2 of 2 completed\n"
     ]
    },
    {
     "name": "stderr",
     "output_type": "stream",
     "text": [
      "C:\\Users\\84903\\AppData\\Local\\Temp\\ipykernel_16252\\4009778277.py:18: RuntimeWarning: divide by zero encountered in double_scalars\n",
      "  sigma -= diff / vega(S, K, T, r, sigma)\n",
      "C:\\Users\\84903\\AppData\\Local\\Temp\\ipykernel_16252\\4009778277.py:3: RuntimeWarning: invalid value encountered in double_scalars\n",
      "  d1 = (np.log(S / K) + (r + sigma**2 / 2) * T) / (sigma * np.sqrt(T))\n",
      "C:\\Users\\84903\\AppData\\Local\\Temp\\ipykernel_16252\\4009778277.py:47: RuntimeWarning: invalid value encountered in double_scalars\n",
      "  d1 = (np.log(S / K) + (r + sigma**2 / 2) * T) / (sigma * np.sqrt(T))\n",
      "C:\\Users\\84903\\AppData\\Local\\Temp\\ipykernel_16252\\4009778277.py:18: RuntimeWarning: overflow encountered in double_scalars\n",
      "  sigma -= diff / vega(S, K, T, r, sigma)\n",
      "C:\\Users\\84903\\AppData\\Local\\Temp\\ipykernel_16252\\4009778277.py:3: RuntimeWarning: overflow encountered in double_scalars\n",
      "  d1 = (np.log(S / K) + (r + sigma**2 / 2) * T) / (sigma * np.sqrt(T))\n",
      "C:\\Users\\84903\\AppData\\Local\\Temp\\ipykernel_16252\\4009778277.py:47: RuntimeWarning: overflow encountered in double_scalars\n",
      "  d1 = (np.log(S / K) + (r + sigma**2 / 2) * T) / (sigma * np.sqrt(T))\n"
     ]
    },
    {
     "name": "stdout",
     "output_type": "stream",
     "text": [
      "[*********************100%%**********************]  2 of 2 completed\n"
     ]
    },
    {
     "name": "stderr",
     "output_type": "stream",
     "text": [
      "C:\\Users\\84903\\AppData\\Local\\Temp\\ipykernel_16252\\4009778277.py:3: RuntimeWarning: divide by zero encountered in double_scalars\n",
      "  d1 = (np.log(S / K) + (r + sigma**2 / 2) * T) / (sigma * np.sqrt(T))\n"
     ]
    },
    {
     "name": "stdout",
     "output_type": "stream",
     "text": [
      "Orgnized Data\\116.csv\n",
      "[*********************100%%**********************]  2 of 2 completed\n"
     ]
    },
    {
     "name": "stderr",
     "output_type": "stream",
     "text": [
      "C:\\Users\\84903\\AppData\\Local\\Temp\\ipykernel_16252\\4009778277.py:18: RuntimeWarning: divide by zero encountered in double_scalars\n",
      "  sigma -= diff / vega(S, K, T, r, sigma)\n",
      "C:\\Users\\84903\\AppData\\Local\\Temp\\ipykernel_16252\\4009778277.py:3: RuntimeWarning: invalid value encountered in double_scalars\n",
      "  d1 = (np.log(S / K) + (r + sigma**2 / 2) * T) / (sigma * np.sqrt(T))\n",
      "C:\\Users\\84903\\AppData\\Local\\Temp\\ipykernel_16252\\4009778277.py:47: RuntimeWarning: invalid value encountered in double_scalars\n",
      "  d1 = (np.log(S / K) + (r + sigma**2 / 2) * T) / (sigma * np.sqrt(T))\n",
      "C:\\Users\\84903\\AppData\\Local\\Temp\\ipykernel_16252\\4009778277.py:3: RuntimeWarning: overflow encountered in double_scalars\n",
      "  d1 = (np.log(S / K) + (r + sigma**2 / 2) * T) / (sigma * np.sqrt(T))\n",
      "C:\\Users\\84903\\AppData\\Local\\Temp\\ipykernel_16252\\4009778277.py:47: RuntimeWarning: overflow encountered in double_scalars\n",
      "  d1 = (np.log(S / K) + (r + sigma**2 / 2) * T) / (sigma * np.sqrt(T))\n"
     ]
    },
    {
     "name": "stdout",
     "output_type": "stream",
     "text": [
      "[*********************100%%**********************]  2 of 2 completed\n"
     ]
    },
    {
     "name": "stderr",
     "output_type": "stream",
     "text": [
      "C:\\Users\\84903\\AppData\\Local\\Temp\\ipykernel_16252\\4009778277.py:3: RuntimeWarning: divide by zero encountered in double_scalars\n",
      "  d1 = (np.log(S / K) + (r + sigma**2 / 2) * T) / (sigma * np.sqrt(T))\n"
     ]
    },
    {
     "name": "stdout",
     "output_type": "stream",
     "text": [
      "Orgnized Data\\117.csv\n",
      "[*********************100%%**********************]  2 of 2 completed\n"
     ]
    },
    {
     "name": "stderr",
     "output_type": "stream",
     "text": [
      "C:\\Users\\84903\\AppData\\Local\\Temp\\ipykernel_16252\\4009778277.py:18: RuntimeWarning: divide by zero encountered in double_scalars\n",
      "  sigma -= diff / vega(S, K, T, r, sigma)\n",
      "C:\\Users\\84903\\AppData\\Local\\Temp\\ipykernel_16252\\4009778277.py:3: RuntimeWarning: invalid value encountered in double_scalars\n",
      "  d1 = (np.log(S / K) + (r + sigma**2 / 2) * T) / (sigma * np.sqrt(T))\n",
      "C:\\Users\\84903\\AppData\\Local\\Temp\\ipykernel_16252\\4009778277.py:47: RuntimeWarning: invalid value encountered in double_scalars\n",
      "  d1 = (np.log(S / K) + (r + sigma**2 / 2) * T) / (sigma * np.sqrt(T))\n",
      "C:\\Users\\84903\\AppData\\Local\\Temp\\ipykernel_16252\\4009778277.py:3: RuntimeWarning: overflow encountered in double_scalars\n",
      "  d1 = (np.log(S / K) + (r + sigma**2 / 2) * T) / (sigma * np.sqrt(T))\n",
      "C:\\Users\\84903\\AppData\\Local\\Temp\\ipykernel_16252\\4009778277.py:47: RuntimeWarning: overflow encountered in double_scalars\n",
      "  d1 = (np.log(S / K) + (r + sigma**2 / 2) * T) / (sigma * np.sqrt(T))\n"
     ]
    },
    {
     "name": "stdout",
     "output_type": "stream",
     "text": [
      "[*********************100%%**********************]  2 of 2 completed\n"
     ]
    },
    {
     "name": "stderr",
     "output_type": "stream",
     "text": [
      "C:\\Users\\84903\\AppData\\Local\\Temp\\ipykernel_16252\\4009778277.py:3: RuntimeWarning: divide by zero encountered in double_scalars\n",
      "  d1 = (np.log(S / K) + (r + sigma**2 / 2) * T) / (sigma * np.sqrt(T))\n"
     ]
    },
    {
     "name": "stdout",
     "output_type": "stream",
     "text": [
      "Orgnized Data\\118.csv\n",
      "[*********************100%%**********************]  2 of 2 completed\n"
     ]
    },
    {
     "name": "stderr",
     "output_type": "stream",
     "text": [
      "C:\\Users\\84903\\AppData\\Local\\Temp\\ipykernel_16252\\4009778277.py:18: RuntimeWarning: divide by zero encountered in double_scalars\n",
      "  sigma -= diff / vega(S, K, T, r, sigma)\n",
      "C:\\Users\\84903\\AppData\\Local\\Temp\\ipykernel_16252\\4009778277.py:3: RuntimeWarning: invalid value encountered in double_scalars\n",
      "  d1 = (np.log(S / K) + (r + sigma**2 / 2) * T) / (sigma * np.sqrt(T))\n",
      "C:\\Users\\84903\\AppData\\Local\\Temp\\ipykernel_16252\\4009778277.py:47: RuntimeWarning: invalid value encountered in double_scalars\n",
      "  d1 = (np.log(S / K) + (r + sigma**2 / 2) * T) / (sigma * np.sqrt(T))\n",
      "C:\\Users\\84903\\AppData\\Local\\Temp\\ipykernel_16252\\4009778277.py:3: RuntimeWarning: overflow encountered in double_scalars\n",
      "  d1 = (np.log(S / K) + (r + sigma**2 / 2) * T) / (sigma * np.sqrt(T))\n",
      "C:\\Users\\84903\\AppData\\Local\\Temp\\ipykernel_16252\\4009778277.py:47: RuntimeWarning: overflow encountered in double_scalars\n",
      "  d1 = (np.log(S / K) + (r + sigma**2 / 2) * T) / (sigma * np.sqrt(T))\n"
     ]
    },
    {
     "name": "stdout",
     "output_type": "stream",
     "text": [
      "[*********************100%%**********************]  2 of 2 completed\n"
     ]
    },
    {
     "name": "stderr",
     "output_type": "stream",
     "text": [
      "C:\\Users\\84903\\AppData\\Local\\Temp\\ipykernel_16252\\4009778277.py:3: RuntimeWarning: divide by zero encountered in double_scalars\n",
      "  d1 = (np.log(S / K) + (r + sigma**2 / 2) * T) / (sigma * np.sqrt(T))\n"
     ]
    },
    {
     "name": "stdout",
     "output_type": "stream",
     "text": [
      "Orgnized Data\\119.csv\n",
      "[*********************100%%**********************]  2 of 2 completed\n"
     ]
    },
    {
     "name": "stderr",
     "output_type": "stream",
     "text": [
      "C:\\Users\\84903\\AppData\\Local\\Temp\\ipykernel_16252\\4009778277.py:18: RuntimeWarning: divide by zero encountered in double_scalars\n",
      "  sigma -= diff / vega(S, K, T, r, sigma)\n",
      "C:\\Users\\84903\\AppData\\Local\\Temp\\ipykernel_16252\\4009778277.py:3: RuntimeWarning: invalid value encountered in double_scalars\n",
      "  d1 = (np.log(S / K) + (r + sigma**2 / 2) * T) / (sigma * np.sqrt(T))\n",
      "C:\\Users\\84903\\AppData\\Local\\Temp\\ipykernel_16252\\4009778277.py:47: RuntimeWarning: invalid value encountered in double_scalars\n",
      "  d1 = (np.log(S / K) + (r + sigma**2 / 2) * T) / (sigma * np.sqrt(T))\n",
      "C:\\Users\\84903\\AppData\\Local\\Temp\\ipykernel_16252\\4009778277.py:3: RuntimeWarning: overflow encountered in double_scalars\n",
      "  d1 = (np.log(S / K) + (r + sigma**2 / 2) * T) / (sigma * np.sqrt(T))\n",
      "C:\\Users\\84903\\AppData\\Local\\Temp\\ipykernel_16252\\4009778277.py:47: RuntimeWarning: overflow encountered in double_scalars\n",
      "  d1 = (np.log(S / K) + (r + sigma**2 / 2) * T) / (sigma * np.sqrt(T))\n",
      "C:\\Users\\84903\\AppData\\Local\\Temp\\ipykernel_16252\\4009778277.py:18: RuntimeWarning: overflow encountered in double_scalars\n",
      "  sigma -= diff / vega(S, K, T, r, sigma)\n"
     ]
    },
    {
     "name": "stdout",
     "output_type": "stream",
     "text": [
      "[*********************100%%**********************]  2 of 2 completed\n"
     ]
    },
    {
     "name": "stderr",
     "output_type": "stream",
     "text": [
      "C:\\Users\\84903\\AppData\\Local\\Temp\\ipykernel_16252\\4009778277.py:3: RuntimeWarning: divide by zero encountered in double_scalars\n",
      "  d1 = (np.log(S / K) + (r + sigma**2 / 2) * T) / (sigma * np.sqrt(T))\n"
     ]
    },
    {
     "name": "stdout",
     "output_type": "stream",
     "text": [
      "Orgnized Data\\120.csv\n",
      "[*********************100%%**********************]  2 of 2 completed\n"
     ]
    },
    {
     "name": "stderr",
     "output_type": "stream",
     "text": [
      "C:\\Users\\84903\\AppData\\Local\\Temp\\ipykernel_16252\\4009778277.py:3: RuntimeWarning: overflow encountered in double_scalars\n",
      "  d1 = (np.log(S / K) + (r + sigma**2 / 2) * T) / (sigma * np.sqrt(T))\n",
      "C:\\Users\\84903\\AppData\\Local\\Temp\\ipykernel_16252\\4009778277.py:47: RuntimeWarning: overflow encountered in double_scalars\n",
      "  d1 = (np.log(S / K) + (r + sigma**2 / 2) * T) / (sigma * np.sqrt(T))\n",
      "C:\\Users\\84903\\AppData\\Local\\Temp\\ipykernel_16252\\4009778277.py:18: RuntimeWarning: divide by zero encountered in double_scalars\n",
      "  sigma -= diff / vega(S, K, T, r, sigma)\n",
      "C:\\Users\\84903\\AppData\\Local\\Temp\\ipykernel_16252\\4009778277.py:3: RuntimeWarning: invalid value encountered in double_scalars\n",
      "  d1 = (np.log(S / K) + (r + sigma**2 / 2) * T) / (sigma * np.sqrt(T))\n",
      "C:\\Users\\84903\\AppData\\Local\\Temp\\ipykernel_16252\\4009778277.py:47: RuntimeWarning: invalid value encountered in double_scalars\n",
      "  d1 = (np.log(S / K) + (r + sigma**2 / 2) * T) / (sigma * np.sqrt(T))\n",
      "C:\\Users\\84903\\AppData\\Local\\Temp\\ipykernel_16252\\4009778277.py:18: RuntimeWarning: overflow encountered in double_scalars\n",
      "  sigma -= diff / vega(S, K, T, r, sigma)\n"
     ]
    },
    {
     "name": "stdout",
     "output_type": "stream",
     "text": [
      "[*********************100%%**********************]  2 of 2 completed\n"
     ]
    },
    {
     "name": "stderr",
     "output_type": "stream",
     "text": [
      "C:\\Users\\84903\\AppData\\Local\\Temp\\ipykernel_16252\\4009778277.py:3: RuntimeWarning: divide by zero encountered in double_scalars\n",
      "  d1 = (np.log(S / K) + (r + sigma**2 / 2) * T) / (sigma * np.sqrt(T))\n"
     ]
    },
    {
     "name": "stdout",
     "output_type": "stream",
     "text": [
      "Orgnized Data\\121.csv\n",
      "[*********************100%%**********************]  2 of 2 completed\n"
     ]
    },
    {
     "name": "stderr",
     "output_type": "stream",
     "text": [
      "C:\\Users\\84903\\AppData\\Local\\Temp\\ipykernel_16252\\4009778277.py:18: RuntimeWarning: divide by zero encountered in double_scalars\n",
      "  sigma -= diff / vega(S, K, T, r, sigma)\n",
      "C:\\Users\\84903\\AppData\\Local\\Temp\\ipykernel_16252\\4009778277.py:3: RuntimeWarning: invalid value encountered in double_scalars\n",
      "  d1 = (np.log(S / K) + (r + sigma**2 / 2) * T) / (sigma * np.sqrt(T))\n",
      "C:\\Users\\84903\\AppData\\Local\\Temp\\ipykernel_16252\\4009778277.py:47: RuntimeWarning: invalid value encountered in double_scalars\n",
      "  d1 = (np.log(S / K) + (r + sigma**2 / 2) * T) / (sigma * np.sqrt(T))\n",
      "C:\\Users\\84903\\AppData\\Local\\Temp\\ipykernel_16252\\4009778277.py:3: RuntimeWarning: overflow encountered in double_scalars\n",
      "  d1 = (np.log(S / K) + (r + sigma**2 / 2) * T) / (sigma * np.sqrt(T))\n",
      "C:\\Users\\84903\\AppData\\Local\\Temp\\ipykernel_16252\\4009778277.py:47: RuntimeWarning: overflow encountered in double_scalars\n",
      "  d1 = (np.log(S / K) + (r + sigma**2 / 2) * T) / (sigma * np.sqrt(T))\n",
      "C:\\Users\\84903\\AppData\\Local\\Temp\\ipykernel_16252\\4009778277.py:18: RuntimeWarning: overflow encountered in double_scalars\n",
      "  sigma -= diff / vega(S, K, T, r, sigma)\n"
     ]
    },
    {
     "name": "stdout",
     "output_type": "stream",
     "text": [
      "[*********************100%%**********************]  2 of 2 completed\n"
     ]
    },
    {
     "name": "stderr",
     "output_type": "stream",
     "text": [
      "C:\\Users\\84903\\AppData\\Local\\Temp\\ipykernel_16252\\4009778277.py:3: RuntimeWarning: divide by zero encountered in double_scalars\n",
      "  d1 = (np.log(S / K) + (r + sigma**2 / 2) * T) / (sigma * np.sqrt(T))\n"
     ]
    },
    {
     "name": "stdout",
     "output_type": "stream",
     "text": [
      "Orgnized Data\\122.csv\n",
      "[*********************100%%**********************]  2 of 2 completed\n"
     ]
    },
    {
     "name": "stderr",
     "output_type": "stream",
     "text": [
      "C:\\Users\\84903\\AppData\\Local\\Temp\\ipykernel_16252\\4009778277.py:18: RuntimeWarning: divide by zero encountered in double_scalars\n",
      "  sigma -= diff / vega(S, K, T, r, sigma)\n",
      "C:\\Users\\84903\\AppData\\Local\\Temp\\ipykernel_16252\\4009778277.py:3: RuntimeWarning: invalid value encountered in double_scalars\n",
      "  d1 = (np.log(S / K) + (r + sigma**2 / 2) * T) / (sigma * np.sqrt(T))\n",
      "C:\\Users\\84903\\AppData\\Local\\Temp\\ipykernel_16252\\4009778277.py:47: RuntimeWarning: invalid value encountered in double_scalars\n",
      "  d1 = (np.log(S / K) + (r + sigma**2 / 2) * T) / (sigma * np.sqrt(T))\n",
      "C:\\Users\\84903\\AppData\\Local\\Temp\\ipykernel_16252\\4009778277.py:3: RuntimeWarning: overflow encountered in double_scalars\n",
      "  d1 = (np.log(S / K) + (r + sigma**2 / 2) * T) / (sigma * np.sqrt(T))\n",
      "C:\\Users\\84903\\AppData\\Local\\Temp\\ipykernel_16252\\4009778277.py:47: RuntimeWarning: overflow encountered in double_scalars\n",
      "  d1 = (np.log(S / K) + (r + sigma**2 / 2) * T) / (sigma * np.sqrt(T))\n",
      "C:\\Users\\84903\\AppData\\Local\\Temp\\ipykernel_16252\\4009778277.py:18: RuntimeWarning: overflow encountered in double_scalars\n",
      "  sigma -= diff / vega(S, K, T, r, sigma)\n"
     ]
    },
    {
     "name": "stdout",
     "output_type": "stream",
     "text": [
      "[*********************100%%**********************]  2 of 2 completed\n"
     ]
    },
    {
     "name": "stderr",
     "output_type": "stream",
     "text": [
      "C:\\Users\\84903\\AppData\\Local\\Temp\\ipykernel_16252\\4009778277.py:3: RuntimeWarning: divide by zero encountered in double_scalars\n",
      "  d1 = (np.log(S / K) + (r + sigma**2 / 2) * T) / (sigma * np.sqrt(T))\n"
     ]
    },
    {
     "name": "stdout",
     "output_type": "stream",
     "text": [
      "Orgnized Data\\123.csv\n",
      "[*********************100%%**********************]  2 of 2 completed\n"
     ]
    },
    {
     "name": "stderr",
     "output_type": "stream",
     "text": [
      "C:\\Users\\84903\\AppData\\Local\\Temp\\ipykernel_16252\\4009778277.py:18: RuntimeWarning: divide by zero encountered in double_scalars\n",
      "  sigma -= diff / vega(S, K, T, r, sigma)\n",
      "C:\\Users\\84903\\AppData\\Local\\Temp\\ipykernel_16252\\4009778277.py:3: RuntimeWarning: invalid value encountered in double_scalars\n",
      "  d1 = (np.log(S / K) + (r + sigma**2 / 2) * T) / (sigma * np.sqrt(T))\n",
      "C:\\Users\\84903\\AppData\\Local\\Temp\\ipykernel_16252\\4009778277.py:47: RuntimeWarning: invalid value encountered in double_scalars\n",
      "  d1 = (np.log(S / K) + (r + sigma**2 / 2) * T) / (sigma * np.sqrt(T))\n",
      "C:\\Users\\84903\\AppData\\Local\\Temp\\ipykernel_16252\\4009778277.py:3: RuntimeWarning: overflow encountered in double_scalars\n",
      "  d1 = (np.log(S / K) + (r + sigma**2 / 2) * T) / (sigma * np.sqrt(T))\n",
      "C:\\Users\\84903\\AppData\\Local\\Temp\\ipykernel_16252\\4009778277.py:47: RuntimeWarning: overflow encountered in double_scalars\n",
      "  d1 = (np.log(S / K) + (r + sigma**2 / 2) * T) / (sigma * np.sqrt(T))\n"
     ]
    },
    {
     "name": "stdout",
     "output_type": "stream",
     "text": [
      "[*********************100%%**********************]  2 of 2 completed\n"
     ]
    },
    {
     "name": "stderr",
     "output_type": "stream",
     "text": [
      "C:\\Users\\84903\\AppData\\Local\\Temp\\ipykernel_16252\\4009778277.py:3: RuntimeWarning: divide by zero encountered in double_scalars\n",
      "  d1 = (np.log(S / K) + (r + sigma**2 / 2) * T) / (sigma * np.sqrt(T))\n"
     ]
    },
    {
     "name": "stdout",
     "output_type": "stream",
     "text": [
      "Orgnized Data\\124.csv\n",
      "[*********************100%%**********************]  2 of 2 completed\n"
     ]
    },
    {
     "name": "stderr",
     "output_type": "stream",
     "text": [
      "C:\\Users\\84903\\AppData\\Local\\Temp\\ipykernel_16252\\4009778277.py:18: RuntimeWarning: divide by zero encountered in double_scalars\n",
      "  sigma -= diff / vega(S, K, T, r, sigma)\n",
      "C:\\Users\\84903\\AppData\\Local\\Temp\\ipykernel_16252\\4009778277.py:3: RuntimeWarning: invalid value encountered in double_scalars\n",
      "  d1 = (np.log(S / K) + (r + sigma**2 / 2) * T) / (sigma * np.sqrt(T))\n",
      "C:\\Users\\84903\\AppData\\Local\\Temp\\ipykernel_16252\\4009778277.py:47: RuntimeWarning: invalid value encountered in double_scalars\n",
      "  d1 = (np.log(S / K) + (r + sigma**2 / 2) * T) / (sigma * np.sqrt(T))\n",
      "C:\\Users\\84903\\AppData\\Local\\Temp\\ipykernel_16252\\4009778277.py:3: RuntimeWarning: overflow encountered in double_scalars\n",
      "  d1 = (np.log(S / K) + (r + sigma**2 / 2) * T) / (sigma * np.sqrt(T))\n",
      "C:\\Users\\84903\\AppData\\Local\\Temp\\ipykernel_16252\\4009778277.py:47: RuntimeWarning: overflow encountered in double_scalars\n",
      "  d1 = (np.log(S / K) + (r + sigma**2 / 2) * T) / (sigma * np.sqrt(T))\n",
      "C:\\Users\\84903\\AppData\\Local\\Temp\\ipykernel_16252\\4009778277.py:18: RuntimeWarning: overflow encountered in double_scalars\n",
      "  sigma -= diff / vega(S, K, T, r, sigma)\n"
     ]
    },
    {
     "name": "stdout",
     "output_type": "stream",
     "text": [
      "[*********************100%%**********************]  2 of 2 completed\n"
     ]
    },
    {
     "name": "stderr",
     "output_type": "stream",
     "text": [
      "C:\\Users\\84903\\AppData\\Local\\Temp\\ipykernel_16252\\4009778277.py:3: RuntimeWarning: divide by zero encountered in double_scalars\n",
      "  d1 = (np.log(S / K) + (r + sigma**2 / 2) * T) / (sigma * np.sqrt(T))\n"
     ]
    },
    {
     "name": "stdout",
     "output_type": "stream",
     "text": [
      "Orgnized Data\\125.csv\n",
      "[*********************100%%**********************]  2 of 2 completed\n"
     ]
    },
    {
     "name": "stderr",
     "output_type": "stream",
     "text": [
      "C:\\Users\\84903\\AppData\\Local\\Temp\\ipykernel_16252\\4009778277.py:18: RuntimeWarning: divide by zero encountered in double_scalars\n",
      "  sigma -= diff / vega(S, K, T, r, sigma)\n",
      "C:\\Users\\84903\\AppData\\Local\\Temp\\ipykernel_16252\\4009778277.py:3: RuntimeWarning: invalid value encountered in double_scalars\n",
      "  d1 = (np.log(S / K) + (r + sigma**2 / 2) * T) / (sigma * np.sqrt(T))\n",
      "C:\\Users\\84903\\AppData\\Local\\Temp\\ipykernel_16252\\4009778277.py:47: RuntimeWarning: invalid value encountered in double_scalars\n",
      "  d1 = (np.log(S / K) + (r + sigma**2 / 2) * T) / (sigma * np.sqrt(T))\n",
      "C:\\Users\\84903\\AppData\\Local\\Temp\\ipykernel_16252\\4009778277.py:3: RuntimeWarning: overflow encountered in double_scalars\n",
      "  d1 = (np.log(S / K) + (r + sigma**2 / 2) * T) / (sigma * np.sqrt(T))\n",
      "C:\\Users\\84903\\AppData\\Local\\Temp\\ipykernel_16252\\4009778277.py:47: RuntimeWarning: overflow encountered in double_scalars\n",
      "  d1 = (np.log(S / K) + (r + sigma**2 / 2) * T) / (sigma * np.sqrt(T))\n",
      "C:\\Users\\84903\\AppData\\Local\\Temp\\ipykernel_16252\\4009778277.py:18: RuntimeWarning: overflow encountered in double_scalars\n",
      "  sigma -= diff / vega(S, K, T, r, sigma)\n"
     ]
    },
    {
     "name": "stdout",
     "output_type": "stream",
     "text": [
      "[*********************100%%**********************]  2 of 2 completed\n"
     ]
    },
    {
     "name": "stderr",
     "output_type": "stream",
     "text": [
      "C:\\Users\\84903\\AppData\\Local\\Temp\\ipykernel_16252\\4009778277.py:3: RuntimeWarning: divide by zero encountered in double_scalars\n",
      "  d1 = (np.log(S / K) + (r + sigma**2 / 2) * T) / (sigma * np.sqrt(T))\n"
     ]
    },
    {
     "name": "stdout",
     "output_type": "stream",
     "text": [
      "Orgnized Data\\126.csv\n",
      "[*********************100%%**********************]  2 of 2 completed\n"
     ]
    },
    {
     "name": "stderr",
     "output_type": "stream",
     "text": [
      "C:\\Users\\84903\\AppData\\Local\\Temp\\ipykernel_16252\\4009778277.py:18: RuntimeWarning: divide by zero encountered in double_scalars\n",
      "  sigma -= diff / vega(S, K, T, r, sigma)\n",
      "C:\\Users\\84903\\AppData\\Local\\Temp\\ipykernel_16252\\4009778277.py:3: RuntimeWarning: invalid value encountered in double_scalars\n",
      "  d1 = (np.log(S / K) + (r + sigma**2 / 2) * T) / (sigma * np.sqrt(T))\n",
      "C:\\Users\\84903\\AppData\\Local\\Temp\\ipykernel_16252\\4009778277.py:47: RuntimeWarning: invalid value encountered in double_scalars\n",
      "  d1 = (np.log(S / K) + (r + sigma**2 / 2) * T) / (sigma * np.sqrt(T))\n",
      "C:\\Users\\84903\\AppData\\Local\\Temp\\ipykernel_16252\\4009778277.py:3: RuntimeWarning: overflow encountered in double_scalars\n",
      "  d1 = (np.log(S / K) + (r + sigma**2 / 2) * T) / (sigma * np.sqrt(T))\n",
      "C:\\Users\\84903\\AppData\\Local\\Temp\\ipykernel_16252\\4009778277.py:47: RuntimeWarning: overflow encountered in double_scalars\n",
      "  d1 = (np.log(S / K) + (r + sigma**2 / 2) * T) / (sigma * np.sqrt(T))\n",
      "C:\\Users\\84903\\AppData\\Local\\Temp\\ipykernel_16252\\4009778277.py:18: RuntimeWarning: overflow encountered in double_scalars\n",
      "  sigma -= diff / vega(S, K, T, r, sigma)\n"
     ]
    },
    {
     "name": "stdout",
     "output_type": "stream",
     "text": [
      "[*********************100%%**********************]  2 of 2 completed\n"
     ]
    },
    {
     "name": "stderr",
     "output_type": "stream",
     "text": [
      "C:\\Users\\84903\\AppData\\Local\\Temp\\ipykernel_16252\\4009778277.py:3: RuntimeWarning: divide by zero encountered in double_scalars\n",
      "  d1 = (np.log(S / K) + (r + sigma**2 / 2) * T) / (sigma * np.sqrt(T))\n"
     ]
    },
    {
     "name": "stdout",
     "output_type": "stream",
     "text": [
      "Orgnized Data\\127.csv\n",
      "[*********************100%%**********************]  2 of 2 completed\n"
     ]
    },
    {
     "name": "stderr",
     "output_type": "stream",
     "text": [
      "C:\\Users\\84903\\AppData\\Local\\Temp\\ipykernel_16252\\4009778277.py:18: RuntimeWarning: divide by zero encountered in double_scalars\n",
      "  sigma -= diff / vega(S, K, T, r, sigma)\n",
      "C:\\Users\\84903\\AppData\\Local\\Temp\\ipykernel_16252\\4009778277.py:3: RuntimeWarning: invalid value encountered in double_scalars\n",
      "  d1 = (np.log(S / K) + (r + sigma**2 / 2) * T) / (sigma * np.sqrt(T))\n",
      "C:\\Users\\84903\\AppData\\Local\\Temp\\ipykernel_16252\\4009778277.py:47: RuntimeWarning: invalid value encountered in double_scalars\n",
      "  d1 = (np.log(S / K) + (r + sigma**2 / 2) * T) / (sigma * np.sqrt(T))\n",
      "C:\\Users\\84903\\AppData\\Local\\Temp\\ipykernel_16252\\4009778277.py:3: RuntimeWarning: overflow encountered in double_scalars\n",
      "  d1 = (np.log(S / K) + (r + sigma**2 / 2) * T) / (sigma * np.sqrt(T))\n",
      "C:\\Users\\84903\\AppData\\Local\\Temp\\ipykernel_16252\\4009778277.py:47: RuntimeWarning: overflow encountered in double_scalars\n",
      "  d1 = (np.log(S / K) + (r + sigma**2 / 2) * T) / (sigma * np.sqrt(T))\n",
      "C:\\Users\\84903\\AppData\\Local\\Temp\\ipykernel_16252\\4009778277.py:18: RuntimeWarning: overflow encountered in double_scalars\n",
      "  sigma -= diff / vega(S, K, T, r, sigma)\n"
     ]
    },
    {
     "name": "stdout",
     "output_type": "stream",
     "text": [
      "[*********************100%%**********************]  2 of 2 completed\n"
     ]
    },
    {
     "name": "stderr",
     "output_type": "stream",
     "text": [
      "C:\\Users\\84903\\AppData\\Local\\Temp\\ipykernel_16252\\4009778277.py:3: RuntimeWarning: divide by zero encountered in double_scalars\n",
      "  d1 = (np.log(S / K) + (r + sigma**2 / 2) * T) / (sigma * np.sqrt(T))\n"
     ]
    },
    {
     "name": "stdout",
     "output_type": "stream",
     "text": [
      "Orgnized Data\\128.csv\n",
      "[*********************100%%**********************]  2 of 2 completed\n"
     ]
    },
    {
     "name": "stderr",
     "output_type": "stream",
     "text": [
      "C:\\Users\\84903\\AppData\\Local\\Temp\\ipykernel_16252\\4009778277.py:18: RuntimeWarning: divide by zero encountered in double_scalars\n",
      "  sigma -= diff / vega(S, K, T, r, sigma)\n",
      "C:\\Users\\84903\\AppData\\Local\\Temp\\ipykernel_16252\\4009778277.py:3: RuntimeWarning: invalid value encountered in double_scalars\n",
      "  d1 = (np.log(S / K) + (r + sigma**2 / 2) * T) / (sigma * np.sqrt(T))\n",
      "C:\\Users\\84903\\AppData\\Local\\Temp\\ipykernel_16252\\4009778277.py:47: RuntimeWarning: invalid value encountered in double_scalars\n",
      "  d1 = (np.log(S / K) + (r + sigma**2 / 2) * T) / (sigma * np.sqrt(T))\n",
      "C:\\Users\\84903\\AppData\\Local\\Temp\\ipykernel_16252\\4009778277.py:3: RuntimeWarning: overflow encountered in double_scalars\n",
      "  d1 = (np.log(S / K) + (r + sigma**2 / 2) * T) / (sigma * np.sqrt(T))\n",
      "C:\\Users\\84903\\AppData\\Local\\Temp\\ipykernel_16252\\4009778277.py:47: RuntimeWarning: overflow encountered in double_scalars\n",
      "  d1 = (np.log(S / K) + (r + sigma**2 / 2) * T) / (sigma * np.sqrt(T))\n",
      "C:\\Users\\84903\\AppData\\Local\\Temp\\ipykernel_16252\\4009778277.py:18: RuntimeWarning: overflow encountered in double_scalars\n",
      "  sigma -= diff / vega(S, K, T, r, sigma)\n"
     ]
    },
    {
     "name": "stdout",
     "output_type": "stream",
     "text": [
      "[*********************100%%**********************]  2 of 2 completed\n"
     ]
    },
    {
     "name": "stderr",
     "output_type": "stream",
     "text": [
      "C:\\Users\\84903\\AppData\\Local\\Temp\\ipykernel_16252\\4009778277.py:3: RuntimeWarning: divide by zero encountered in double_scalars\n",
      "  d1 = (np.log(S / K) + (r + sigma**2 / 2) * T) / (sigma * np.sqrt(T))\n"
     ]
    },
    {
     "name": "stdout",
     "output_type": "stream",
     "text": [
      "Orgnized Data\\129.csv\n",
      "[*********************100%%**********************]  2 of 2 completed\n"
     ]
    },
    {
     "name": "stderr",
     "output_type": "stream",
     "text": [
      "C:\\Users\\84903\\AppData\\Local\\Temp\\ipykernel_16252\\4009778277.py:18: RuntimeWarning: divide by zero encountered in double_scalars\n",
      "  sigma -= diff / vega(S, K, T, r, sigma)\n",
      "C:\\Users\\84903\\AppData\\Local\\Temp\\ipykernel_16252\\4009778277.py:3: RuntimeWarning: invalid value encountered in double_scalars\n",
      "  d1 = (np.log(S / K) + (r + sigma**2 / 2) * T) / (sigma * np.sqrt(T))\n",
      "C:\\Users\\84903\\AppData\\Local\\Temp\\ipykernel_16252\\4009778277.py:47: RuntimeWarning: invalid value encountered in double_scalars\n",
      "  d1 = (np.log(S / K) + (r + sigma**2 / 2) * T) / (sigma * np.sqrt(T))\n",
      "C:\\Users\\84903\\AppData\\Local\\Temp\\ipykernel_16252\\4009778277.py:3: RuntimeWarning: overflow encountered in double_scalars\n",
      "  d1 = (np.log(S / K) + (r + sigma**2 / 2) * T) / (sigma * np.sqrt(T))\n",
      "C:\\Users\\84903\\AppData\\Local\\Temp\\ipykernel_16252\\4009778277.py:47: RuntimeWarning: overflow encountered in double_scalars\n",
      "  d1 = (np.log(S / K) + (r + sigma**2 / 2) * T) / (sigma * np.sqrt(T))\n"
     ]
    },
    {
     "name": "stdout",
     "output_type": "stream",
     "text": [
      "[*********************100%%**********************]  2 of 2 completed\n"
     ]
    },
    {
     "name": "stderr",
     "output_type": "stream",
     "text": [
      "C:\\Users\\84903\\AppData\\Local\\Temp\\ipykernel_16252\\4009778277.py:3: RuntimeWarning: divide by zero encountered in double_scalars\n",
      "  d1 = (np.log(S / K) + (r + sigma**2 / 2) * T) / (sigma * np.sqrt(T))\n"
     ]
    },
    {
     "name": "stdout",
     "output_type": "stream",
     "text": [
      "Orgnized Data\\130.csv\n",
      "[*********************100%%**********************]  2 of 2 completed\n"
     ]
    },
    {
     "name": "stderr",
     "output_type": "stream",
     "text": [
      "C:\\Users\\84903\\AppData\\Local\\Temp\\ipykernel_16252\\4009778277.py:18: RuntimeWarning: divide by zero encountered in double_scalars\n",
      "  sigma -= diff / vega(S, K, T, r, sigma)\n",
      "C:\\Users\\84903\\AppData\\Local\\Temp\\ipykernel_16252\\4009778277.py:3: RuntimeWarning: invalid value encountered in double_scalars\n",
      "  d1 = (np.log(S / K) + (r + sigma**2 / 2) * T) / (sigma * np.sqrt(T))\n",
      "C:\\Users\\84903\\AppData\\Local\\Temp\\ipykernel_16252\\4009778277.py:47: RuntimeWarning: invalid value encountered in double_scalars\n",
      "  d1 = (np.log(S / K) + (r + sigma**2 / 2) * T) / (sigma * np.sqrt(T))\n",
      "C:\\Users\\84903\\AppData\\Local\\Temp\\ipykernel_16252\\4009778277.py:3: RuntimeWarning: overflow encountered in double_scalars\n",
      "  d1 = (np.log(S / K) + (r + sigma**2 / 2) * T) / (sigma * np.sqrt(T))\n",
      "C:\\Users\\84903\\AppData\\Local\\Temp\\ipykernel_16252\\4009778277.py:47: RuntimeWarning: overflow encountered in double_scalars\n",
      "  d1 = (np.log(S / K) + (r + sigma**2 / 2) * T) / (sigma * np.sqrt(T))\n",
      "C:\\Users\\84903\\AppData\\Local\\Temp\\ipykernel_16252\\4009778277.py:18: RuntimeWarning: overflow encountered in double_scalars\n",
      "  sigma -= diff / vega(S, K, T, r, sigma)\n"
     ]
    },
    {
     "name": "stdout",
     "output_type": "stream",
     "text": [
      "[*********************100%%**********************]  2 of 2 completed\n"
     ]
    },
    {
     "name": "stderr",
     "output_type": "stream",
     "text": [
      "C:\\Users\\84903\\AppData\\Local\\Temp\\ipykernel_16252\\4009778277.py:3: RuntimeWarning: divide by zero encountered in double_scalars\n",
      "  d1 = (np.log(S / K) + (r + sigma**2 / 2) * T) / (sigma * np.sqrt(T))\n"
     ]
    },
    {
     "name": "stdout",
     "output_type": "stream",
     "text": [
      "Orgnized Data\\131.csv\n",
      "[*********************100%%**********************]  2 of 2 completed\n"
     ]
    },
    {
     "name": "stderr",
     "output_type": "stream",
     "text": [
      "C:\\Users\\84903\\AppData\\Local\\Temp\\ipykernel_16252\\4009778277.py:3: RuntimeWarning: overflow encountered in double_scalars\n",
      "  d1 = (np.log(S / K) + (r + sigma**2 / 2) * T) / (sigma * np.sqrt(T))\n",
      "C:\\Users\\84903\\AppData\\Local\\Temp\\ipykernel_16252\\4009778277.py:47: RuntimeWarning: overflow encountered in double_scalars\n",
      "  d1 = (np.log(S / K) + (r + sigma**2 / 2) * T) / (sigma * np.sqrt(T))\n",
      "C:\\Users\\84903\\AppData\\Local\\Temp\\ipykernel_16252\\4009778277.py:18: RuntimeWarning: divide by zero encountered in double_scalars\n",
      "  sigma -= diff / vega(S, K, T, r, sigma)\n",
      "C:\\Users\\84903\\AppData\\Local\\Temp\\ipykernel_16252\\4009778277.py:3: RuntimeWarning: invalid value encountered in double_scalars\n",
      "  d1 = (np.log(S / K) + (r + sigma**2 / 2) * T) / (sigma * np.sqrt(T))\n",
      "C:\\Users\\84903\\AppData\\Local\\Temp\\ipykernel_16252\\4009778277.py:47: RuntimeWarning: invalid value encountered in double_scalars\n",
      "  d1 = (np.log(S / K) + (r + sigma**2 / 2) * T) / (sigma * np.sqrt(T))\n",
      "C:\\Users\\84903\\AppData\\Local\\Temp\\ipykernel_16252\\4009778277.py:18: RuntimeWarning: overflow encountered in double_scalars\n",
      "  sigma -= diff / vega(S, K, T, r, sigma)\n"
     ]
    },
    {
     "name": "stdout",
     "output_type": "stream",
     "text": [
      "[*********************100%%**********************]  2 of 2 completed\n"
     ]
    },
    {
     "name": "stderr",
     "output_type": "stream",
     "text": [
      "C:\\Users\\84903\\AppData\\Local\\Temp\\ipykernel_16252\\4009778277.py:3: RuntimeWarning: divide by zero encountered in double_scalars\n",
      "  d1 = (np.log(S / K) + (r + sigma**2 / 2) * T) / (sigma * np.sqrt(T))\n"
     ]
    },
    {
     "name": "stdout",
     "output_type": "stream",
     "text": [
      "Orgnized Data\\132.csv\n",
      "[*********************100%%**********************]  2 of 2 completed\n"
     ]
    },
    {
     "name": "stderr",
     "output_type": "stream",
     "text": [
      "C:\\Users\\84903\\AppData\\Local\\Temp\\ipykernel_16252\\4009778277.py:18: RuntimeWarning: divide by zero encountered in double_scalars\n",
      "  sigma -= diff / vega(S, K, T, r, sigma)\n",
      "C:\\Users\\84903\\AppData\\Local\\Temp\\ipykernel_16252\\4009778277.py:3: RuntimeWarning: invalid value encountered in double_scalars\n",
      "  d1 = (np.log(S / K) + (r + sigma**2 / 2) * T) / (sigma * np.sqrt(T))\n",
      "C:\\Users\\84903\\AppData\\Local\\Temp\\ipykernel_16252\\4009778277.py:47: RuntimeWarning: invalid value encountered in double_scalars\n",
      "  d1 = (np.log(S / K) + (r + sigma**2 / 2) * T) / (sigma * np.sqrt(T))\n",
      "C:\\Users\\84903\\AppData\\Local\\Temp\\ipykernel_16252\\4009778277.py:3: RuntimeWarning: overflow encountered in double_scalars\n",
      "  d1 = (np.log(S / K) + (r + sigma**2 / 2) * T) / (sigma * np.sqrt(T))\n",
      "C:\\Users\\84903\\AppData\\Local\\Temp\\ipykernel_16252\\4009778277.py:47: RuntimeWarning: overflow encountered in double_scalars\n",
      "  d1 = (np.log(S / K) + (r + sigma**2 / 2) * T) / (sigma * np.sqrt(T))\n",
      "C:\\Users\\84903\\AppData\\Local\\Temp\\ipykernel_16252\\4009778277.py:18: RuntimeWarning: overflow encountered in double_scalars\n",
      "  sigma -= diff / vega(S, K, T, r, sigma)\n"
     ]
    },
    {
     "name": "stdout",
     "output_type": "stream",
     "text": [
      "[*********************100%%**********************]  2 of 2 completed\n",
      "Orgnized Data\\133.csv\n",
      "[*********************100%%**********************]  2 of 2 completed\n"
     ]
    },
    {
     "name": "stderr",
     "output_type": "stream",
     "text": [
      "C:\\Users\\84903\\AppData\\Local\\Temp\\ipykernel_16252\\4009778277.py:18: RuntimeWarning: divide by zero encountered in double_scalars\n",
      "  sigma -= diff / vega(S, K, T, r, sigma)\n",
      "C:\\Users\\84903\\AppData\\Local\\Temp\\ipykernel_16252\\4009778277.py:3: RuntimeWarning: invalid value encountered in double_scalars\n",
      "  d1 = (np.log(S / K) + (r + sigma**2 / 2) * T) / (sigma * np.sqrt(T))\n",
      "C:\\Users\\84903\\AppData\\Local\\Temp\\ipykernel_16252\\4009778277.py:47: RuntimeWarning: invalid value encountered in double_scalars\n",
      "  d1 = (np.log(S / K) + (r + sigma**2 / 2) * T) / (sigma * np.sqrt(T))\n",
      "C:\\Users\\84903\\AppData\\Local\\Temp\\ipykernel_16252\\4009778277.py:3: RuntimeWarning: overflow encountered in double_scalars\n",
      "  d1 = (np.log(S / K) + (r + sigma**2 / 2) * T) / (sigma * np.sqrt(T))\n",
      "C:\\Users\\84903\\AppData\\Local\\Temp\\ipykernel_16252\\4009778277.py:47: RuntimeWarning: overflow encountered in double_scalars\n",
      "  d1 = (np.log(S / K) + (r + sigma**2 / 2) * T) / (sigma * np.sqrt(T))\n",
      "C:\\Users\\84903\\AppData\\Local\\Temp\\ipykernel_16252\\4009778277.py:18: RuntimeWarning: overflow encountered in double_scalars\n",
      "  sigma -= diff / vega(S, K, T, r, sigma)\n"
     ]
    },
    {
     "name": "stdout",
     "output_type": "stream",
     "text": [
      "[*********************100%%**********************]  2 of 2 completed\n"
     ]
    },
    {
     "name": "stderr",
     "output_type": "stream",
     "text": [
      "C:\\Users\\84903\\AppData\\Local\\Temp\\ipykernel_16252\\4009778277.py:3: RuntimeWarning: divide by zero encountered in double_scalars\n",
      "  d1 = (np.log(S / K) + (r + sigma**2 / 2) * T) / (sigma * np.sqrt(T))\n"
     ]
    },
    {
     "name": "stdout",
     "output_type": "stream",
     "text": [
      "Orgnized Data\\134.csv\n",
      "[*********************100%%**********************]  2 of 2 completed\n"
     ]
    },
    {
     "name": "stderr",
     "output_type": "stream",
     "text": [
      "C:\\Users\\84903\\AppData\\Local\\Temp\\ipykernel_16252\\4009778277.py:18: RuntimeWarning: divide by zero encountered in double_scalars\n",
      "  sigma -= diff / vega(S, K, T, r, sigma)\n",
      "C:\\Users\\84903\\AppData\\Local\\Temp\\ipykernel_16252\\4009778277.py:3: RuntimeWarning: invalid value encountered in double_scalars\n",
      "  d1 = (np.log(S / K) + (r + sigma**2 / 2) * T) / (sigma * np.sqrt(T))\n",
      "C:\\Users\\84903\\AppData\\Local\\Temp\\ipykernel_16252\\4009778277.py:47: RuntimeWarning: invalid value encountered in double_scalars\n",
      "  d1 = (np.log(S / K) + (r + sigma**2 / 2) * T) / (sigma * np.sqrt(T))\n",
      "C:\\Users\\84903\\AppData\\Local\\Temp\\ipykernel_16252\\4009778277.py:3: RuntimeWarning: overflow encountered in double_scalars\n",
      "  d1 = (np.log(S / K) + (r + sigma**2 / 2) * T) / (sigma * np.sqrt(T))\n",
      "C:\\Users\\84903\\AppData\\Local\\Temp\\ipykernel_16252\\4009778277.py:47: RuntimeWarning: overflow encountered in double_scalars\n",
      "  d1 = (np.log(S / K) + (r + sigma**2 / 2) * T) / (sigma * np.sqrt(T))\n",
      "C:\\Users\\84903\\AppData\\Local\\Temp\\ipykernel_16252\\4009778277.py:18: RuntimeWarning: overflow encountered in double_scalars\n",
      "  sigma -= diff / vega(S, K, T, r, sigma)\n"
     ]
    },
    {
     "name": "stdout",
     "output_type": "stream",
     "text": [
      "[*********************100%%**********************]  2 of 2 completed\n"
     ]
    },
    {
     "name": "stderr",
     "output_type": "stream",
     "text": [
      "C:\\Users\\84903\\AppData\\Local\\Temp\\ipykernel_16252\\4009778277.py:3: RuntimeWarning: divide by zero encountered in double_scalars\n",
      "  d1 = (np.log(S / K) + (r + sigma**2 / 2) * T) / (sigma * np.sqrt(T))\n"
     ]
    },
    {
     "name": "stdout",
     "output_type": "stream",
     "text": [
      "Orgnized Data\\135.csv\n",
      "[*********************100%%**********************]  2 of 2 completed\n"
     ]
    },
    {
     "name": "stderr",
     "output_type": "stream",
     "text": [
      "C:\\Users\\84903\\AppData\\Local\\Temp\\ipykernel_16252\\4009778277.py:18: RuntimeWarning: divide by zero encountered in double_scalars\n",
      "  sigma -= diff / vega(S, K, T, r, sigma)\n",
      "C:\\Users\\84903\\AppData\\Local\\Temp\\ipykernel_16252\\4009778277.py:3: RuntimeWarning: invalid value encountered in double_scalars\n",
      "  d1 = (np.log(S / K) + (r + sigma**2 / 2) * T) / (sigma * np.sqrt(T))\n",
      "C:\\Users\\84903\\AppData\\Local\\Temp\\ipykernel_16252\\4009778277.py:47: RuntimeWarning: invalid value encountered in double_scalars\n",
      "  d1 = (np.log(S / K) + (r + sigma**2 / 2) * T) / (sigma * np.sqrt(T))\n",
      "C:\\Users\\84903\\AppData\\Local\\Temp\\ipykernel_16252\\4009778277.py:3: RuntimeWarning: overflow encountered in double_scalars\n",
      "  d1 = (np.log(S / K) + (r + sigma**2 / 2) * T) / (sigma * np.sqrt(T))\n",
      "C:\\Users\\84903\\AppData\\Local\\Temp\\ipykernel_16252\\4009778277.py:47: RuntimeWarning: overflow encountered in double_scalars\n",
      "  d1 = (np.log(S / K) + (r + sigma**2 / 2) * T) / (sigma * np.sqrt(T))\n",
      "C:\\Users\\84903\\AppData\\Local\\Temp\\ipykernel_16252\\4009778277.py:18: RuntimeWarning: overflow encountered in double_scalars\n",
      "  sigma -= diff / vega(S, K, T, r, sigma)\n"
     ]
    },
    {
     "name": "stdout",
     "output_type": "stream",
     "text": [
      "[*********************100%%**********************]  2 of 2 completed\n"
     ]
    },
    {
     "name": "stderr",
     "output_type": "stream",
     "text": [
      "C:\\Users\\84903\\AppData\\Local\\Temp\\ipykernel_16252\\4009778277.py:3: RuntimeWarning: divide by zero encountered in double_scalars\n",
      "  d1 = (np.log(S / K) + (r + sigma**2 / 2) * T) / (sigma * np.sqrt(T))\n"
     ]
    },
    {
     "name": "stdout",
     "output_type": "stream",
     "text": [
      "Orgnized Data\\136.csv\n",
      "[*********************100%%**********************]  2 of 2 completed\n"
     ]
    },
    {
     "name": "stderr",
     "output_type": "stream",
     "text": [
      "C:\\Users\\84903\\AppData\\Local\\Temp\\ipykernel_16252\\4009778277.py:18: RuntimeWarning: divide by zero encountered in double_scalars\n",
      "  sigma -= diff / vega(S, K, T, r, sigma)\n",
      "C:\\Users\\84903\\AppData\\Local\\Temp\\ipykernel_16252\\4009778277.py:3: RuntimeWarning: invalid value encountered in double_scalars\n",
      "  d1 = (np.log(S / K) + (r + sigma**2 / 2) * T) / (sigma * np.sqrt(T))\n",
      "C:\\Users\\84903\\AppData\\Local\\Temp\\ipykernel_16252\\4009778277.py:47: RuntimeWarning: invalid value encountered in double_scalars\n",
      "  d1 = (np.log(S / K) + (r + sigma**2 / 2) * T) / (sigma * np.sqrt(T))\n",
      "C:\\Users\\84903\\AppData\\Local\\Temp\\ipykernel_16252\\4009778277.py:3: RuntimeWarning: overflow encountered in double_scalars\n",
      "  d1 = (np.log(S / K) + (r + sigma**2 / 2) * T) / (sigma * np.sqrt(T))\n",
      "C:\\Users\\84903\\AppData\\Local\\Temp\\ipykernel_16252\\4009778277.py:47: RuntimeWarning: overflow encountered in double_scalars\n",
      "  d1 = (np.log(S / K) + (r + sigma**2 / 2) * T) / (sigma * np.sqrt(T))\n",
      "C:\\Users\\84903\\AppData\\Local\\Temp\\ipykernel_16252\\4009778277.py:18: RuntimeWarning: overflow encountered in double_scalars\n",
      "  sigma -= diff / vega(S, K, T, r, sigma)\n"
     ]
    },
    {
     "name": "stdout",
     "output_type": "stream",
     "text": [
      "[*********************100%%**********************]  2 of 2 completed\n"
     ]
    },
    {
     "name": "stderr",
     "output_type": "stream",
     "text": [
      "C:\\Users\\84903\\AppData\\Local\\Temp\\ipykernel_16252\\4009778277.py:3: RuntimeWarning: divide by zero encountered in double_scalars\n",
      "  d1 = (np.log(S / K) + (r + sigma**2 / 2) * T) / (sigma * np.sqrt(T))\n"
     ]
    },
    {
     "name": "stdout",
     "output_type": "stream",
     "text": [
      "Orgnized Data\\137.csv\n",
      "[*********************100%%**********************]  2 of 2 completed\n"
     ]
    },
    {
     "name": "stderr",
     "output_type": "stream",
     "text": [
      "C:\\Users\\84903\\AppData\\Local\\Temp\\ipykernel_16252\\4009778277.py:18: RuntimeWarning: divide by zero encountered in double_scalars\n",
      "  sigma -= diff / vega(S, K, T, r, sigma)\n",
      "C:\\Users\\84903\\AppData\\Local\\Temp\\ipykernel_16252\\4009778277.py:3: RuntimeWarning: invalid value encountered in double_scalars\n",
      "  d1 = (np.log(S / K) + (r + sigma**2 / 2) * T) / (sigma * np.sqrt(T))\n",
      "C:\\Users\\84903\\AppData\\Local\\Temp\\ipykernel_16252\\4009778277.py:47: RuntimeWarning: invalid value encountered in double_scalars\n",
      "  d1 = (np.log(S / K) + (r + sigma**2 / 2) * T) / (sigma * np.sqrt(T))\n",
      "C:\\Users\\84903\\AppData\\Local\\Temp\\ipykernel_16252\\4009778277.py:3: RuntimeWarning: overflow encountered in double_scalars\n",
      "  d1 = (np.log(S / K) + (r + sigma**2 / 2) * T) / (sigma * np.sqrt(T))\n",
      "C:\\Users\\84903\\AppData\\Local\\Temp\\ipykernel_16252\\4009778277.py:47: RuntimeWarning: overflow encountered in double_scalars\n",
      "  d1 = (np.log(S / K) + (r + sigma**2 / 2) * T) / (sigma * np.sqrt(T))\n",
      "C:\\Users\\84903\\AppData\\Local\\Temp\\ipykernel_16252\\4009778277.py:18: RuntimeWarning: overflow encountered in double_scalars\n",
      "  sigma -= diff / vega(S, K, T, r, sigma)\n"
     ]
    },
    {
     "name": "stdout",
     "output_type": "stream",
     "text": [
      "[*********************100%%**********************]  2 of 2 completed\n"
     ]
    },
    {
     "name": "stderr",
     "output_type": "stream",
     "text": [
      "C:\\Users\\84903\\AppData\\Local\\Temp\\ipykernel_16252\\4009778277.py:3: RuntimeWarning: divide by zero encountered in double_scalars\n",
      "  d1 = (np.log(S / K) + (r + sigma**2 / 2) * T) / (sigma * np.sqrt(T))\n"
     ]
    },
    {
     "name": "stdout",
     "output_type": "stream",
     "text": [
      "Orgnized Data\\138.csv\n",
      "[*********************100%%**********************]  2 of 2 completed\n"
     ]
    },
    {
     "name": "stderr",
     "output_type": "stream",
     "text": [
      "C:\\Users\\84903\\AppData\\Local\\Temp\\ipykernel_16252\\4009778277.py:18: RuntimeWarning: divide by zero encountered in double_scalars\n",
      "  sigma -= diff / vega(S, K, T, r, sigma)\n",
      "C:\\Users\\84903\\AppData\\Local\\Temp\\ipykernel_16252\\4009778277.py:3: RuntimeWarning: invalid value encountered in double_scalars\n",
      "  d1 = (np.log(S / K) + (r + sigma**2 / 2) * T) / (sigma * np.sqrt(T))\n",
      "C:\\Users\\84903\\AppData\\Local\\Temp\\ipykernel_16252\\4009778277.py:47: RuntimeWarning: invalid value encountered in double_scalars\n",
      "  d1 = (np.log(S / K) + (r + sigma**2 / 2) * T) / (sigma * np.sqrt(T))\n",
      "C:\\Users\\84903\\AppData\\Local\\Temp\\ipykernel_16252\\4009778277.py:3: RuntimeWarning: overflow encountered in double_scalars\n",
      "  d1 = (np.log(S / K) + (r + sigma**2 / 2) * T) / (sigma * np.sqrt(T))\n",
      "C:\\Users\\84903\\AppData\\Local\\Temp\\ipykernel_16252\\4009778277.py:47: RuntimeWarning: overflow encountered in double_scalars\n",
      "  d1 = (np.log(S / K) + (r + sigma**2 / 2) * T) / (sigma * np.sqrt(T))\n",
      "C:\\Users\\84903\\AppData\\Local\\Temp\\ipykernel_16252\\4009778277.py:18: RuntimeWarning: overflow encountered in double_scalars\n",
      "  sigma -= diff / vega(S, K, T, r, sigma)\n"
     ]
    },
    {
     "name": "stdout",
     "output_type": "stream",
     "text": [
      "[*********************100%%**********************]  2 of 2 completed\n",
      "Orgnized Data\\139.csv\n",
      "[*********************100%%**********************]  2 of 2 completed\n"
     ]
    },
    {
     "name": "stderr",
     "output_type": "stream",
     "text": [
      "C:\\Users\\84903\\AppData\\Local\\Temp\\ipykernel_16252\\4009778277.py:18: RuntimeWarning: divide by zero encountered in double_scalars\n",
      "  sigma -= diff / vega(S, K, T, r, sigma)\n",
      "C:\\Users\\84903\\AppData\\Local\\Temp\\ipykernel_16252\\4009778277.py:3: RuntimeWarning: invalid value encountered in double_scalars\n",
      "  d1 = (np.log(S / K) + (r + sigma**2 / 2) * T) / (sigma * np.sqrt(T))\n",
      "C:\\Users\\84903\\AppData\\Local\\Temp\\ipykernel_16252\\4009778277.py:47: RuntimeWarning: invalid value encountered in double_scalars\n",
      "  d1 = (np.log(S / K) + (r + sigma**2 / 2) * T) / (sigma * np.sqrt(T))\n",
      "C:\\Users\\84903\\AppData\\Local\\Temp\\ipykernel_16252\\4009778277.py:3: RuntimeWarning: overflow encountered in double_scalars\n",
      "  d1 = (np.log(S / K) + (r + sigma**2 / 2) * T) / (sigma * np.sqrt(T))\n",
      "C:\\Users\\84903\\AppData\\Local\\Temp\\ipykernel_16252\\4009778277.py:47: RuntimeWarning: overflow encountered in double_scalars\n",
      "  d1 = (np.log(S / K) + (r + sigma**2 / 2) * T) / (sigma * np.sqrt(T))\n",
      "C:\\Users\\84903\\AppData\\Local\\Temp\\ipykernel_16252\\4009778277.py:18: RuntimeWarning: overflow encountered in double_scalars\n",
      "  sigma -= diff / vega(S, K, T, r, sigma)\n"
     ]
    },
    {
     "name": "stdout",
     "output_type": "stream",
     "text": [
      "[*********************100%%**********************]  2 of 2 completed\n"
     ]
    },
    {
     "name": "stderr",
     "output_type": "stream",
     "text": [
      "C:\\Users\\84903\\AppData\\Local\\Temp\\ipykernel_16252\\4009778277.py:3: RuntimeWarning: divide by zero encountered in double_scalars\n",
      "  d1 = (np.log(S / K) + (r + sigma**2 / 2) * T) / (sigma * np.sqrt(T))\n"
     ]
    },
    {
     "name": "stdout",
     "output_type": "stream",
     "text": [
      "Orgnized Data\\140.csv\n",
      "[*********************100%%**********************]  2 of 2 completed\n"
     ]
    },
    {
     "name": "stderr",
     "output_type": "stream",
     "text": [
      "C:\\Users\\84903\\AppData\\Local\\Temp\\ipykernel_16252\\4009778277.py:18: RuntimeWarning: divide by zero encountered in double_scalars\n",
      "  sigma -= diff / vega(S, K, T, r, sigma)\n",
      "C:\\Users\\84903\\AppData\\Local\\Temp\\ipykernel_16252\\4009778277.py:3: RuntimeWarning: invalid value encountered in double_scalars\n",
      "  d1 = (np.log(S / K) + (r + sigma**2 / 2) * T) / (sigma * np.sqrt(T))\n",
      "C:\\Users\\84903\\AppData\\Local\\Temp\\ipykernel_16252\\4009778277.py:47: RuntimeWarning: invalid value encountered in double_scalars\n",
      "  d1 = (np.log(S / K) + (r + sigma**2 / 2) * T) / (sigma * np.sqrt(T))\n",
      "C:\\Users\\84903\\AppData\\Local\\Temp\\ipykernel_16252\\4009778277.py:3: RuntimeWarning: overflow encountered in double_scalars\n",
      "  d1 = (np.log(S / K) + (r + sigma**2 / 2) * T) / (sigma * np.sqrt(T))\n",
      "C:\\Users\\84903\\AppData\\Local\\Temp\\ipykernel_16252\\4009778277.py:47: RuntimeWarning: overflow encountered in double_scalars\n",
      "  d1 = (np.log(S / K) + (r + sigma**2 / 2) * T) / (sigma * np.sqrt(T))\n",
      "C:\\Users\\84903\\AppData\\Local\\Temp\\ipykernel_16252\\4009778277.py:18: RuntimeWarning: overflow encountered in double_scalars\n",
      "  sigma -= diff / vega(S, K, T, r, sigma)\n"
     ]
    },
    {
     "name": "stdout",
     "output_type": "stream",
     "text": [
      "[*********************100%%**********************]  2 of 2 completed\n"
     ]
    },
    {
     "name": "stderr",
     "output_type": "stream",
     "text": [
      "C:\\Users\\84903\\AppData\\Local\\Temp\\ipykernel_16252\\4009778277.py:3: RuntimeWarning: divide by zero encountered in double_scalars\n",
      "  d1 = (np.log(S / K) + (r + sigma**2 / 2) * T) / (sigma * np.sqrt(T))\n"
     ]
    },
    {
     "data": {
      "text/html": [
       "<div>\n",
       "<style scoped>\n",
       "    .dataframe tbody tr th:only-of-type {\n",
       "        vertical-align: middle;\n",
       "    }\n",
       "\n",
       "    .dataframe tbody tr th {\n",
       "        vertical-align: top;\n",
       "    }\n",
       "\n",
       "    .dataframe thead th {\n",
       "        text-align: right;\n",
       "    }\n",
       "</style>\n",
       "<table border=\"1\" class=\"dataframe\">\n",
       "  <thead>\n",
       "    <tr style=\"text-align: right;\">\n",
       "      <th></th>\n",
       "      <th>^IRX</th>\n",
       "      <th>^SPX</th>\n",
       "      <th>up_prob</th>\n",
       "      <th>down_prob</th>\n",
       "      <th>skewness</th>\n",
       "      <th>kurtosis</th>\n",
       "      <th>mean</th>\n",
       "      <th>variance</th>\n",
       "      <th>median</th>\n",
       "      <th>p10</th>\n",
       "      <th>p90</th>\n",
       "    </tr>\n",
       "    <tr>\n",
       "      <th>Date</th>\n",
       "      <th></th>\n",
       "      <th></th>\n",
       "      <th></th>\n",
       "      <th></th>\n",
       "      <th></th>\n",
       "      <th></th>\n",
       "      <th></th>\n",
       "      <th></th>\n",
       "      <th></th>\n",
       "      <th></th>\n",
       "      <th></th>\n",
       "    </tr>\n",
       "  </thead>\n",
       "  <tbody>\n",
       "    <tr>\n",
       "      <th>2011-01-07</th>\n",
       "      <td>0.135</td>\n",
       "      <td>1271.500000</td>\n",
       "      <td>0.3169</td>\n",
       "      <td>0.2072</td>\n",
       "      <td>1.0858</td>\n",
       "      <td>-0.3065</td>\n",
       "      <td>1270.7929</td>\n",
       "      <td>41522.7438</td>\n",
       "      <td>1318</td>\n",
       "      <td>1018</td>\n",
       "      <td>1529</td>\n",
       "    </tr>\n",
       "    <tr>\n",
       "      <th>2011-01-10</th>\n",
       "      <td>0.135</td>\n",
       "      <td>1269.750000</td>\n",
       "      <td>0.3346</td>\n",
       "      <td>0.2386</td>\n",
       "      <td>1.6923</td>\n",
       "      <td>1.4680</td>\n",
       "      <td>1374.2099</td>\n",
       "      <td>122425.1209</td>\n",
       "      <td>1292</td>\n",
       "      <td>999</td>\n",
       "      <td>1550</td>\n",
       "    </tr>\n",
       "    <tr>\n",
       "      <th>2011-01-11</th>\n",
       "      <td>0.145</td>\n",
       "      <td>1274.479980</td>\n",
       "      <td>0.3283</td>\n",
       "      <td>0.2448</td>\n",
       "      <td>1.6224</td>\n",
       "      <td>1.2034</td>\n",
       "      <td>1273.0806</td>\n",
       "      <td>53592.7590</td>\n",
       "      <td>1312</td>\n",
       "      <td>969</td>\n",
       "      <td>1539</td>\n",
       "    </tr>\n",
       "    <tr>\n",
       "      <th>2011-01-12</th>\n",
       "      <td>0.145</td>\n",
       "      <td>1285.959961</td>\n",
       "      <td>0.2935</td>\n",
       "      <td>0.2107</td>\n",
       "      <td>1.7602</td>\n",
       "      <td>1.7079</td>\n",
       "      <td>1409.5604</td>\n",
       "      <td>123446.8960</td>\n",
       "      <td>1301</td>\n",
       "      <td>1054</td>\n",
       "      <td>1515</td>\n",
       "    </tr>\n",
       "    <tr>\n",
       "      <th>2011-01-13</th>\n",
       "      <td>0.140</td>\n",
       "      <td>1283.760010</td>\n",
       "      <td>0.3139</td>\n",
       "      <td>0.2282</td>\n",
       "      <td>1.6123</td>\n",
       "      <td>1.1800</td>\n",
       "      <td>1402.6875</td>\n",
       "      <td>126110.2812</td>\n",
       "      <td>1300</td>\n",
       "      <td>1032</td>\n",
       "      <td>1541</td>\n",
       "    </tr>\n",
       "    <tr>\n",
       "      <th>...</th>\n",
       "      <td>...</td>\n",
       "      <td>...</td>\n",
       "      <td>...</td>\n",
       "      <td>...</td>\n",
       "      <td>...</td>\n",
       "      <td>...</td>\n",
       "      <td>...</td>\n",
       "      <td>...</td>\n",
       "      <td>...</td>\n",
       "      <td>...</td>\n",
       "      <td>...</td>\n",
       "    </tr>\n",
       "    <tr>\n",
       "      <th>2021-01-25</th>\n",
       "      <td>0.070</td>\n",
       "      <td>3855.360107</td>\n",
       "      <td>0.2784</td>\n",
       "      <td>0.1905</td>\n",
       "      <td>1.6098</td>\n",
       "      <td>1.2175</td>\n",
       "      <td>3853.3838</td>\n",
       "      <td>370479.6495</td>\n",
       "      <td>4001</td>\n",
       "      <td>3106</td>\n",
       "      <td>4451</td>\n",
       "    </tr>\n",
       "    <tr>\n",
       "      <th>2021-01-26</th>\n",
       "      <td>0.068</td>\n",
       "      <td>3849.620117</td>\n",
       "      <td>0.2814</td>\n",
       "      <td>0.1883</td>\n",
       "      <td>1.4036</td>\n",
       "      <td>0.5250</td>\n",
       "      <td>3847.3655</td>\n",
       "      <td>311757.0274</td>\n",
       "      <td>3983</td>\n",
       "      <td>3158</td>\n",
       "      <td>4511</td>\n",
       "    </tr>\n",
       "    <tr>\n",
       "      <th>2021-01-27</th>\n",
       "      <td>0.060</td>\n",
       "      <td>3750.770020</td>\n",
       "      <td>0.3490</td>\n",
       "      <td>0.1511</td>\n",
       "      <td>1.5482</td>\n",
       "      <td>1.0250</td>\n",
       "      <td>3883.0176</td>\n",
       "      <td>249330.5602</td>\n",
       "      <td>3965</td>\n",
       "      <td>3178</td>\n",
       "      <td>4393</td>\n",
       "    </tr>\n",
       "    <tr>\n",
       "      <th>2021-01-28</th>\n",
       "      <td>0.055</td>\n",
       "      <td>3787.379883</td>\n",
       "      <td>0.3123</td>\n",
       "      <td>0.1866</td>\n",
       "      <td>1.5422</td>\n",
       "      <td>0.9786</td>\n",
       "      <td>3785.5800</td>\n",
       "      <td>416746.6931</td>\n",
       "      <td>3958</td>\n",
       "      <td>3062</td>\n",
       "      <td>4445</td>\n",
       "    </tr>\n",
       "    <tr>\n",
       "      <th>2021-01-29</th>\n",
       "      <td>0.048</td>\n",
       "      <td>3714.239990</td>\n",
       "      <td>0.3360</td>\n",
       "      <td>0.2158</td>\n",
       "      <td>1.4066</td>\n",
       "      <td>0.5681</td>\n",
       "      <td>3712.9283</td>\n",
       "      <td>474881.5528</td>\n",
       "      <td>3878</td>\n",
       "      <td>2844</td>\n",
       "      <td>4398</td>\n",
       "    </tr>\n",
       "  </tbody>\n",
       "</table>\n",
       "<p>2532 rows × 11 columns</p>\n",
       "</div>"
      ],
      "text/plain": [
       "             ^IRX         ^SPX  up_prob  down_prob  skewness  kurtosis   \n",
       "Date                                                                     \n",
       "2011-01-07  0.135  1271.500000   0.3169     0.2072    1.0858   -0.3065  \\\n",
       "2011-01-10  0.135  1269.750000   0.3346     0.2386    1.6923    1.4680   \n",
       "2011-01-11  0.145  1274.479980   0.3283     0.2448    1.6224    1.2034   \n",
       "2011-01-12  0.145  1285.959961   0.2935     0.2107    1.7602    1.7079   \n",
       "2011-01-13  0.140  1283.760010   0.3139     0.2282    1.6123    1.1800   \n",
       "...           ...          ...      ...        ...       ...       ...   \n",
       "2021-01-25  0.070  3855.360107   0.2784     0.1905    1.6098    1.2175   \n",
       "2021-01-26  0.068  3849.620117   0.2814     0.1883    1.4036    0.5250   \n",
       "2021-01-27  0.060  3750.770020   0.3490     0.1511    1.5482    1.0250   \n",
       "2021-01-28  0.055  3787.379883   0.3123     0.1866    1.5422    0.9786   \n",
       "2021-01-29  0.048  3714.239990   0.3360     0.2158    1.4066    0.5681   \n",
       "\n",
       "                 mean     variance  median   p10   p90  \n",
       "Date                                                    \n",
       "2011-01-07  1270.7929   41522.7438    1318  1018  1529  \n",
       "2011-01-10  1374.2099  122425.1209    1292   999  1550  \n",
       "2011-01-11  1273.0806   53592.7590    1312   969  1539  \n",
       "2011-01-12  1409.5604  123446.8960    1301  1054  1515  \n",
       "2011-01-13  1402.6875  126110.2812    1300  1032  1541  \n",
       "...               ...          ...     ...   ...   ...  \n",
       "2021-01-25  3853.3838  370479.6495    4001  3106  4451  \n",
       "2021-01-26  3847.3655  311757.0274    3983  3158  4511  \n",
       "2021-01-27  3883.0176  249330.5602    3965  3178  4393  \n",
       "2021-01-28  3785.5800  416746.6931    3958  3062  4445  \n",
       "2021-01-29  3712.9283  474881.5528    3878  2844  4398  \n",
       "\n",
       "[2532 rows x 11 columns]"
      ]
     },
     "execution_count": 12,
     "metadata": {},
     "output_type": "execute_result"
    }
   ],
   "source": [
    "for f in csv_files:\n",
    "    print(f)\n",
    "    csvfile_, df_ = load_csv(f)\n",
    "    if csvfile_['Expiration'][0] == csvfile['Expiration'][0]:\n",
    "        continue\n",
    "    else:\n",
    "        df_ = date_strike(csvfile_, df_)\n",
    "        df_window_ = get_nwindow(df_, n)\n",
    "        df_iv_ = get_iv(df_window_, csvfile_, n)\n",
    "        results_ = get_prob(df_iv_, csvfile_, n, 0.1)\n",
    "        results = pd.concat([results, results_], axis=0)\n",
    "\n",
    "results"
   ]
  },
  {
   "cell_type": "code",
   "execution_count": 13,
   "id": "544dcef0",
   "metadata": {},
   "outputs": [
    {
     "data": {
      "image/png": "[encoded data removed]",
      "text/plain": [
       "<Figure size 640x480 with 1 Axes>"
      ]
     },
     "metadata": {},
     "output_type": "display_data"
    }
   ],
   "source": [
    "plt.plot(results['up_prob'], label = 'up_prob')\n",
    "plt.plot(results['down_prob'], label = 'down_prob')\n",
    "plt.legend()\n",
    "plt.show()"
   ]
  },
  {
   "cell_type": "code",
   "execution_count": 14,
   "id": "fe85dc01",
   "metadata": {},
   "outputs": [
    {
     "data": {
      "image/png": "[encoded data removed]",
      "text/plain": [
       "<Figure size 640x480 with 1 Axes>"
      ]
     },
     "metadata": {},
     "output_type": "display_data"
    }
   ],
   "source": [
    "plt.plot(results['skewness'], label = 'skewness')\n",
    "plt.legend()\n",
    "plt.show()"
   ]
  },
  {
   "cell_type": "code",
   "execution_count": 15,
   "id": "9fdfed6e",
   "metadata": {},
   "outputs": [
    {
     "data": {
      "image/png": "[encoded data removed]",
      "text/plain": [
       "<Figure size 640x480 with 1 Axes>"
      ]
     },
     "metadata": {},
     "output_type": "display_data"
    }
   ],
   "source": [
    "plt.plot(results['kurtosis'], label = 'kurtosis')\n",
    "plt.legend()\n",
    "plt.show()"
   ]
  },
  {
   "cell_type": "code",
   "execution_count": 16,
   "id": "875e29a4",
   "metadata": {},
   "outputs": [],
   "source": [
    "results.to_csv('results.csv', index = True)"
   ]
  },
  {
   "cell_type": "code",
   "execution_count": null,
   "id": "b200d7ed",
   "metadata": {},
   "outputs": [],
   "source": []
  },
  {
   "cell_type": "code",
   "execution_count": null,
   "id": "6bdf0c1d",
   "metadata": {},
   "outputs": [],
   "source": []
  },
  {
   "cell_type": "code",
   "execution_count": null,
   "id": "f989c068",
   "metadata": {},
   "outputs": [],
   "source": []
  }
 ],
 "metadata": {
  "kernelspec": {
   "display_name": "Python 3 (ipykernel)",
   "language": "python",
   "name": "python3"
  },
  "language_info": {
   "codemirror_mode": {
    "name": "ipython",
    "version": 3
   },
   "file_extension": ".py",
   "mimetype": "text/x-python",
   "name": "python",
   "nbconvert_exporter": "python",
   "pygments_lexer": "ipython3",
   "version": "3.9.16"
  }
 },
 "nbformat": 4,
 "nbformat_minor": 5
}
